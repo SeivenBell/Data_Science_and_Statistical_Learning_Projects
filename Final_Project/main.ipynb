{
 "cells": [
  {
   "cell_type": "code",
   "execution_count": 6,
   "metadata": {},
   "outputs": [
    {
     "name": "stdout",
     "output_type": "stream",
     "text": [
      "(torch.Size([5, 5]), tensor(-0.0400), tensor(0.9086), tensor(-1))\n"
     ]
    }
   ],
   "source": [
    "from torch.utils.data import Dataset, DataLoader\n",
    "import torch\n",
    "import numpy as np\n",
    "import h5py\n",
    "\n",
    "file_path = \"binary/cropped_ions.h5\"\n",
    "\n",
    "\n",
    "class IonImageDatasetWithNormalizationTensors(Dataset):\n",
    "    def __init__(self, file_path):\n",
    "        # Load the .h5 file\n",
    "        self.file = h5py.File(file_path, \"r\")\n",
    "        # Extract and store keys\n",
    "        self.keys = list(self.file.keys())\n",
    "\n",
    "        # Here, we compute the global mean and std using PyTorch tensors\n",
    "        self.global_mean, self.global_std = self.compute_global_mean_std()\n",
    "\n",
    "    def compute_global_mean_std(self):\n",
    "        # Accumulators for mean and std computation\n",
    "        all_data = []\n",
    "        for key in self.keys:\n",
    "            data = torch.tensor(self.file[key][:], dtype=torch.float32).flatten()\n",
    "            all_data.append(data)\n",
    "        all_data = torch.cat(all_data)\n",
    "\n",
    "        # Compute the global mean and std\n",
    "        global_mean = torch.mean(all_data)\n",
    "        global_std = torch.std(all_data)\n",
    "\n",
    "        return global_mean.item(), global_std.item()\n",
    "\n",
    "    def __len__(self):\n",
    "        return len(self.keys)\n",
    "\n",
    "    def __getitem__(self, idx):\n",
    "        # Access the dataset using the key\n",
    "        data = self.file[self.keys[idx]]\n",
    "        # Convert the data to a torch tensor (for preprocessing)\n",
    "        image_tensor = torch.tensor(data[:], dtype=torch.float32)\n",
    "\n",
    "        # Standardization\n",
    "        image_tensor = (image_tensor - self.global_mean) / self.global_std\n",
    "\n",
    "        # Placeholder for actual label determination logic\n",
    "        label = torch.tensor(-1)\n",
    "\n",
    "        return image_tensor, label\n",
    "\n",
    "    def close(self):\n",
    "        self.file.close()\n",
    "\n",
    "\n",
    "# Initialize the dataset with tensor-based normalization\n",
    "dataset_normalized_tensors = IonImageDatasetWithNormalizationTensors(file_path)\n",
    "\n",
    "# Fetch one sample from the dataset to demonstrate normalization with tensors\n",
    "normalized_tensor_sample_image, normalized_tensor_sample_label = (\n",
    "    dataset_normalized_tensors[0]\n",
    ")\n",
    "\n",
    "# Showing the shape of one sample image and its mean and std after normalization using tensors\n",
    "print(\n",
    "    (\n",
    "        normalized_tensor_sample_image.shape,\n",
    "        normalized_tensor_sample_image.mean(),\n",
    "        normalized_tensor_sample_image.std(),\n",
    "        normalized_tensor_sample_label,\n",
    "    )\n",
    ")\n",
    "\n",
    "# Remember to close the dataset file when done to avoid resource leaks\n",
    "dataset_normalized_tensors.close()"
   ]
  }
 ],
 "metadata": {
  "kernelspec": {
   "display_name": "syde_522",
   "language": "python",
   "name": "python3"
  },
  "language_info": {
   "codemirror_mode": {
    "name": "ipython",
    "version": 3
   },
   "file_extension": ".py",
   "mimetype": "text/x-python",
   "name": "python",
   "nbconvert_exporter": "python",
   "pygments_lexer": "ipython3",
   "version": "3.9.18"
  }
 },
 "nbformat": 4,
 "nbformat_minor": 2
}
