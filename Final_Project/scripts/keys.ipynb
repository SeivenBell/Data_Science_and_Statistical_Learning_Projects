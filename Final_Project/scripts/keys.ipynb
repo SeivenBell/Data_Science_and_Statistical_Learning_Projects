{
 "cells": [
  {
   "cell_type": "code",
   "execution_count": 3,
   "metadata": {},
   "outputs": [
    {
     "name": "stdout",
     "output_type": "stream",
     "text": [
      "Total datasets: 120000\n",
      "First 10 dataset names: ['bright_0_ion_0', 'bright_0_ion_1', 'bright_0_ion_2', 'bright_0_ion_3', 'bright_1000_ion_0', 'bright_1000_ion_1', 'bright_1000_ion_2', 'bright_1000_ion_3', 'bright_1001_ion_0', 'bright_1001_ion_1']\n"
     ]
    }
   ],
   "source": [
    "import h5py\n",
    "\n",
    "file_path = \"binary/cropped_ions.h5\"\n",
    "with h5py.File(file_path, \"r\") as file:\n",
    "    all_dataset_names = list(file.keys())\n",
    "    print(\"Total datasets:\", len(all_dataset_names))\n",
    "    # Print first 10 dataset names\n",
    "    print(\"First 10 dataset names:\", all_dataset_names[:10])"
   ]
  },
  {
   "cell_type": "code",
   "execution_count": null,
   "metadata": {},
   "outputs": [],
   "source": [
    "source_path = \"binary/cropped_ions.h5\"\n",
    "output_path = \"binary/sorted_cropped_ions.h5\""
   ]
  },
  {
   "cell_type": "code",
   "execution_count": 5,
   "metadata": {},
   "outputs": [
    {
     "ename": "ValueError",
     "evalue": "invalid literal for int() with base 10: 'ion'",
     "output_type": "error",
     "traceback": [
      "\u001b[1;31m---------------------------------------------------------------------------\u001b[0m",
      "\u001b[1;31mValueError\u001b[0m                                Traceback (most recent call last)",
      "Cell \u001b[1;32mIn[5], line 51\u001b[0m\n\u001b[0;32m     48\u001b[0m output_path \u001b[38;5;241m=\u001b[39m \u001b[38;5;124m\"\u001b[39m\u001b[38;5;124mbinary/sorted_cropped_ions.h5\u001b[39m\u001b[38;5;124m\"\u001b[39m\n\u001b[0;32m     50\u001b[0m \u001b[38;5;66;03m# Execute the function\u001b[39;00m\n\u001b[1;32m---> 51\u001b[0m \u001b[43mcreate_structured_datasets\u001b[49m\u001b[43m(\u001b[49m\u001b[43msource_path\u001b[49m\u001b[43m,\u001b[49m\u001b[43m \u001b[49m\u001b[43moutput_path\u001b[49m\u001b[43m)\u001b[49m\n",
      "Cell \u001b[1;32mIn[5], line 22\u001b[0m, in \u001b[0;36mcreate_structured_datasets\u001b[1;34m(source_file_path, output_file_path)\u001b[0m\n\u001b[0;32m     20\u001b[0m \u001b[38;5;28;01mwith\u001b[39;00m h5py\u001b[38;5;241m.\u001b[39mFile(source_file_path, \u001b[38;5;124m\"\u001b[39m\u001b[38;5;124mr\u001b[39m\u001b[38;5;124m\"\u001b[39m) \u001b[38;5;28;01mas\u001b[39;00m file:\n\u001b[0;32m     21\u001b[0m     \u001b[38;5;28;01mfor\u001b[39;00m name \u001b[38;5;129;01min\u001b[39;00m file\u001b[38;5;241m.\u001b[39mkeys():\n\u001b[1;32m---> 22\u001b[0m         ion_number \u001b[38;5;241m=\u001b[39m \u001b[38;5;28;43mint\u001b[39;49m\u001b[43m(\u001b[49m\u001b[43mname\u001b[49m\u001b[38;5;241;43m.\u001b[39;49m\u001b[43msplit\u001b[49m\u001b[43m(\u001b[49m\u001b[38;5;124;43m\"\u001b[39;49m\u001b[38;5;124;43m_\u001b[39;49m\u001b[38;5;124;43m\"\u001b[39;49m\u001b[43m)\u001b[49m\u001b[43m[\u001b[49m\u001b[38;5;241;43m2\u001b[39;49m\u001b[43m]\u001b[49m\u001b[43m)\u001b[49m  \u001b[38;5;66;03m# Parsing the ion number\u001b[39;00m\n\u001b[0;32m     23\u001b[0m         data \u001b[38;5;241m=\u001b[39m file[name][:]\n\u001b[0;32m     25\u001b[0m         \u001b[38;5;28;01mif\u001b[39;00m \u001b[38;5;124m\"\u001b[39m\u001b[38;5;124mbright\u001b[39m\u001b[38;5;124m\"\u001b[39m \u001b[38;5;129;01min\u001b[39;00m name:\n",
      "\u001b[1;31mValueError\u001b[0m: invalid literal for int() with base 10: 'ion'"
     ]
    }
   ],
   "source": [
    "import h5py\n",
    "import numpy as np\n",
    "\n",
    "\n",
    "def create_structured_datasets(source_file_path, output_file_path):\n",
    "    labeled_images = np.zeros(\n",
    "        (20000, 4, 5, 5), dtype=np.float32\n",
    "    )  # 20,000 labeled images\n",
    "    labeled_labels = np.zeros(20000, dtype=int)  # Changed from np.int to int\n",
    "    unlabeled_images = np.zeros(\n",
    "        (10000, 4, 5, 5), dtype=np.float32\n",
    "    )  # 10,000 unlabeled images\n",
    "\n",
    "    # Trackers for indexing\n",
    "    labeled_index = 0\n",
    "    unlabeled_index = 0\n",
    "\n",
    "    with h5py.File(source_file_path, \"r\") as file:\n",
    "        for name in file.keys():\n",
    "            ion_number = int(name.split(\"_\")[2])  # Parsing the ion number\n",
    "            data = file[name][:]\n",
    "\n",
    "            if \"bright\" in name:\n",
    "                labeled_images[labeled_index] = data\n",
    "                labeled_labels[labeled_index] = 1  # Label for 'bright'\n",
    "                labeled_index += 1\n",
    "            elif \"dark\" in name:\n",
    "                labeled_images[labeled_index] = data\n",
    "                labeled_labels[labeled_index] = 0  # Label for 'dark'\n",
    "                labeled_index += 1\n",
    "            elif \"halfpi\" in name:\n",
    "                unlabeled_images[unlabeled_index] = data\n",
    "                unlabeled_index += 1\n",
    "\n",
    "    # Write to new HDF5 file\n",
    "    with h5py.File(output_file_path, \"w\") as output_file:\n",
    "        output_file.create_dataset(\"labeled_images\", data=labeled_images)\n",
    "        output_file.create_dataset(\"labeled_labels\", data=labeled_labels)\n",
    "        output_file.create_dataset(\"unlabeled_images\", data=unlabeled_images)\n",
    "\n",
    "    print(\"Datasets created successfully!\")\n",
    "\n",
    "\n",
    "# Define file paths\n",
    "source_path = \"binary/cropped_ions.h5\"\n",
    "output_path = \"binary/sorted_cropped_ions.h5\"\n",
    "\n",
    "# Execute the function\n",
    "create_structured_datasets(source_path, output_path)"
   ]
  }
 ],
 "metadata": {
  "kernelspec": {
   "display_name": "syde_522",
   "language": "python",
   "name": "python3"
  },
  "language_info": {
   "codemirror_mode": {
    "name": "ipython",
    "version": 3
   },
   "file_extension": ".py",
   "mimetype": "text/x-python",
   "name": "python",
   "nbconvert_exporter": "python",
   "pygments_lexer": "ipython3",
   "version": "3.11.9"
  }
 },
 "nbformat": 4,
 "nbformat_minor": 2
}
