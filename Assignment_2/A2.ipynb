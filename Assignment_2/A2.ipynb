{
 "cells": [
  {
   "cell_type": "code",
   "execution_count": 2,
   "metadata": {},
   "outputs": [
    {
     "data": {
      "text/html": [
       "<div>\n",
       "<style scoped>\n",
       "    .dataframe tbody tr th:only-of-type {\n",
       "        vertical-align: middle;\n",
       "    }\n",
       "\n",
       "    .dataframe tbody tr th {\n",
       "        vertical-align: top;\n",
       "    }\n",
       "\n",
       "    .dataframe thead th {\n",
       "        text-align: right;\n",
       "    }\n",
       "</style>\n",
       "<table border=\"1\" class=\"dataframe\">\n",
       "  <thead>\n",
       "    <tr style=\"text-align: right;\">\n",
       "      <th></th>\n",
       "      <th>id</th>\n",
       "      <th>water</th>\n",
       "      <th>uv</th>\n",
       "      <th>area</th>\n",
       "      <th>fertilizer_usage</th>\n",
       "      <th>yield</th>\n",
       "      <th>pesticides</th>\n",
       "      <th>region</th>\n",
       "      <th>categories</th>\n",
       "    </tr>\n",
       "  </thead>\n",
       "  <tbody>\n",
       "    <tr>\n",
       "      <th>0</th>\n",
       "      <td>0</td>\n",
       "      <td>0.072</td>\n",
       "      <td>80.179</td>\n",
       "      <td>9.414</td>\n",
       "      <td>0</td>\n",
       "      <td>29.878</td>\n",
       "      <td>2.231</td>\n",
       "      <td>6</td>\n",
       "      <td>c</td>\n",
       "    </tr>\n",
       "    <tr>\n",
       "      <th>1</th>\n",
       "      <td>1</td>\n",
       "      <td>5.413</td>\n",
       "      <td>58.359</td>\n",
       "      <td>9.681</td>\n",
       "      <td>3</td>\n",
       "      <td>53.416</td>\n",
       "      <td>1.810</td>\n",
       "      <td>6</td>\n",
       "      <td>c</td>\n",
       "    </tr>\n",
       "    <tr>\n",
       "      <th>2</th>\n",
       "      <td>2</td>\n",
       "      <td>9.731</td>\n",
       "      <td>78.506</td>\n",
       "      <td>7.189</td>\n",
       "      <td>1</td>\n",
       "      <td>63.391</td>\n",
       "      <td>2.455</td>\n",
       "      <td>1</td>\n",
       "      <td>d</td>\n",
       "    </tr>\n",
       "    <tr>\n",
       "      <th>3</th>\n",
       "      <td>3</td>\n",
       "      <td>10.995</td>\n",
       "      <td>69.248</td>\n",
       "      <td>1.738</td>\n",
       "      <td>3</td>\n",
       "      <td>17.984</td>\n",
       "      <td>0.603</td>\n",
       "      <td>2</td>\n",
       "      <td>a</td>\n",
       "    </tr>\n",
       "    <tr>\n",
       "      <th>4</th>\n",
       "      <td>4</td>\n",
       "      <td>2.617</td>\n",
       "      <td>87.658</td>\n",
       "      <td>9.706</td>\n",
       "      <td>1</td>\n",
       "      <td>49.768</td>\n",
       "      <td>2.910</td>\n",
       "      <td>6</td>\n",
       "      <td>c</td>\n",
       "    </tr>\n",
       "  </tbody>\n",
       "</table>\n",
       "</div>"
      ],
      "text/plain": [
       "   id   water      uv   area  fertilizer_usage   yield  pesticides  region  \\\n",
       "0   0   0.072  80.179  9.414                 0  29.878       2.231       6   \n",
       "1   1   5.413  58.359  9.681                 3  53.416       1.810       6   \n",
       "2   2   9.731  78.506  7.189                 1  63.391       2.455       1   \n",
       "3   3  10.995  69.248  1.738                 3  17.984       0.603       2   \n",
       "4   4   2.617  87.658  9.706                 1  49.768       2.910       6   \n",
       "\n",
       "  categories  \n",
       "0          c  \n",
       "1          c  \n",
       "2          d  \n",
       "3          a  \n",
       "4          c  "
      ]
     },
     "execution_count": 2,
     "metadata": {},
     "output_type": "execute_result"
    }
   ],
   "source": [
    "# Google colab link for the report: https://colab.research.google.com/drive/1T9ZKrF6FeLyR1dkLdHS-dyFvR-rxl46F?usp=sharing\n",
    "# url = 'https://github.com/SeivenBell/Data_science_tools/blob/main/Assignment_2/yield_prediction.csv'\n",
    "\n",
    "import pandas as pd\n",
    "from sklearn.model_selection import train_test_split\n",
    "\n",
    "# Load the dataset\n",
    "data_path = \"yield_prediction.csv\"\n",
    "data = pd.read_csv(data_path)\n",
    "\n",
    "# Display the first few rows of the dataset to understand its structure\n",
    "data.head()"
   ]
  },
  {
   "cell_type": "code",
   "execution_count": 3,
   "metadata": {},
   "outputs": [
    {
     "data": {
      "text/plain": [
       "water               42\n",
       "uv                   0\n",
       "area                 0\n",
       "fertilizer_usage     0\n",
       "yield                0\n",
       "pesticides           0\n",
       "region               0\n",
       "categories           0\n",
       "dtype: int64"
      ]
     },
     "execution_count": 3,
     "metadata": {},
     "output_type": "execute_result"
    }
   ],
   "source": [
    "# Drop the id column as it's just an identifier and likely not useful for prediction.\n",
    "\n",
    "# Drop the 'id' column\n",
    "data.drop(\"id\", axis=1, inplace=True)\n",
    "\n",
    "# Check for missing values\n",
    "missing_data = data.isnull().sum()\n",
    "\n",
    "missing_data"
   ]
  },
  {
   "cell_type": "markdown",
   "metadata": {},
   "source": [
    "The dataset has 42 missing values in the water column. We'll handle these missing values by imputing them with the median value of the water column, as this is a robust method that is less affected by outliers.\n",
    "\n",
    "After addressing the missing data, we will identify and handle outliers. We'll focus on the numerical features for outlier detection and handling, using the Interquartile Range (IQR) method to identify outliers.\n",
    "https://www.analyticsvidhya.com/blog/2021/05/detecting-and-treating-outliers-treating-the-odd-one-out/"
   ]
  },
  {
   "cell_type": "code",
   "execution_count": 4,
   "metadata": {},
   "outputs": [
    {
     "data": {
      "text/plain": [
       "(water               0\n",
       " uv                  0\n",
       " area                0\n",
       " fertilizer_usage    0\n",
       " yield               0\n",
       " pesticides          0\n",
       " region              0\n",
       " categories          0\n",
       " dtype: int64,\n",
       "              water           uv         area  fertilizer_usage        yield  \\\n",
       " count  1000.000000  1000.000000  1000.000000       1000.000000  1000.000000   \n",
       " mean      6.655903    73.943218     8.092453          2.294000    58.595117   \n",
       " std       2.768134     9.996096     2.668264          1.554986    24.073466   \n",
       " min       0.072000    45.320125     0.892125          0.000000     2.843000   \n",
       " 25%       4.695500    66.493000     6.297000          1.000000    40.698000   \n",
       " 50%       6.476000    73.700000     7.987500          3.000000    55.602500   \n",
       " 75%       8.611000    80.608250     9.900250          3.000000    73.645500   \n",
       " max      14.484250   101.781125    15.305125          5.000000   123.066750   \n",
       " \n",
       "         pesticides       region  \n",
       " count  1000.000000  1000.000000  \n",
       " mean      3.452301     3.039000  \n",
       " std       2.076921     1.883886  \n",
       " min       0.014000     0.000000  \n",
       " 25%       1.804500     2.000000  \n",
       " 50%       3.275500     2.000000  \n",
       " 75%       4.916000     5.000000  \n",
       " max       9.532000     6.000000  )"
      ]
     },
     "execution_count": 4,
     "metadata": {},
     "output_type": "execute_result"
    }
   ],
   "source": [
    "# Impute missing values in 'water' column with its median value\n",
    "water_median = data[\"water\"].median()\n",
    "# fillna() function to replace all the null or NaN values in the 'water' column with the calculated median.\n",
    "data[\"water\"].fillna(water_median, inplace=True)\n",
    "\n",
    "\n",
    "# Identify and handle outliers using IQR method for numerical columns\n",
    "numerical_cols = [\"water\", \"uv\", \"area\", \"fertilizer_usage\", \"yield\", \"pesticides\"]\n",
    "\n",
    "for col in numerical_cols:\n",
    "    Q1 = data[col].quantile(0.25)\n",
    "    Q3 = data[col].quantile(0.75)\n",
    "    IQR = Q3 - Q1\n",
    "\n",
    "    # Define bounds for outliers\n",
    "    lower_bound = Q1 - 1.5 * IQR\n",
    "    upper_bound = Q3 + 1.5 * IQR\n",
    "\n",
    "    # Cap the outliers\n",
    "    data[col] = data[col].clip(lower=lower_bound, upper=upper_bound)\n",
    "    # The clip() function is then used to replace all values below the lower bound with the lower\n",
    "    # bound value, and all values above the upper bound with the upper bound value. This is known\n",
    "    # as 'capping' the outliers\n",
    "\n",
    "# Confirm if the missing values are handled\n",
    "missing_data_after = data.isnull().sum()\n",
    "\n",
    "missing_data_after, data.describe()"
   ]
  },
  {
   "cell_type": "code",
   "execution_count": 5,
   "metadata": {},
   "outputs": [
    {
     "data": {
      "text/plain": [
       "{'Training Set': 700, 'Validation Set': 150, 'Test Set': 150}"
      ]
     },
     "execution_count": 5,
     "metadata": {},
     "output_type": "execute_result"
    }
   ],
   "source": [
    "# Split the data into features and target\n",
    "X = data.drop(\"yield\", axis=1)\n",
    "# creating a new DataFrame X that includes all columns from data except for the \"yield\" column\n",
    "y = data[\"yield\"]\n",
    "\n",
    "# Encode the 'categories' column as it's categorical\n",
    "X = pd.get_dummies(X, columns=[\"categories\"], drop_first=True)\n",
    "\n",
    "# First, split into training and temp (temporary set for further splitting into validation and test sets)\n",
    "X_train, X_temp, y_train, y_temp = train_test_split(\n",
    "    X, y, test_size=0.3, random_state=42\n",
    ")\n",
    "\n",
    "# Now, split the temp set equally into validation and test sets\n",
    "X_val, X_test, y_val, y_test = train_test_split(\n",
    "    X_temp, y_temp, test_size=0.5, random_state=42\n",
    ")\n",
    "\n",
    "# Check the sizes of each set to confirm the split\n",
    "sizes = {\n",
    "    \"Training Set\": len(X_train),\n",
    "    \"Validation Set\": len(X_val),\n",
    "    \"Test Set\": len(X_test),\n",
    "}\n",
    "\n",
    "sizes\n",
    "\n",
    "# Now, use X_train and y_train to train a linear regression model\n",
    "# and X_val, y_val, X_test, and y_test to evaluate the model."
   ]
  },
  {
   "cell_type": "code",
   "execution_count": null,
   "metadata": {},
   "outputs": [],
   "source": []
  }
 ],
 "metadata": {
  "kernelspec": {
   "display_name": "syde_522",
   "language": "python",
   "name": "python3"
  },
  "language_info": {
   "codemirror_mode": {
    "name": "ipython",
    "version": 3
   },
   "file_extension": ".py",
   "mimetype": "text/x-python",
   "name": "python",
   "nbconvert_exporter": "python",
   "pygments_lexer": "ipython3",
   "version": "3.9.18"
  }
 },
 "nbformat": 4,
 "nbformat_minor": 2
}
