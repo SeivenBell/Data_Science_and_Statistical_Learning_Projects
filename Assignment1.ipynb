{
  "cells": [
    {
      "cell_type": "markdown",
      "metadata": {
        "id": "DgGc4qaTjPrU"
      },
      "source": [
        "Welcome to assignment 1.                                                       \n",
        "\n",
        "We are using pathology images for our first assignment please download data from this link https://drive.google.com/drive/folders/10dUOzcPR-PQwfFYcHk5gsLjIjSorQ32Q?usp=sharing"
      ]
    },
    {
      "cell_type": "markdown",
      "metadata": {
        "id": "4s4K2S-dhTnF"
      },
      "source": [
        "\n",
        "\n",
        "Task 1: Feature Generation (15%)\n",
        "Use and run the following code (a deep network) to generate features from a set of training images. For this assignment, you do not need to know how the deep network is working here to extract features.\n",
        "This code extracts the features of image T4.tif (in the T folder of dataset). Modify the code so that it iterates over all images of the dataset and extracts their features.\n",
        "Allocate 10% of the data for validation.\n",
        "\n",
        "Insert your code here for Task 1\n",
        "\n",
        "\n",
        "\n"
      ]
    },
    {
      "cell_type": "code",
      "execution_count": null,
      "metadata": {
        "id": "mog7HIxnpbgy"
      },
      "outputs": [],
      "source": [
        "# import the necessary packages\n",
        "\n",
        "import torch\n",
        "import numpy as np\n",
        "import torchvision.transforms as transforms\n",
        "from torchvision.models import densenet121\n",
        "from torch.autograd import Variable\n",
        "from PIL import Image\n",
        "from sklearn.cluster import DBSCAN\n",
        "from sklearn.metrics import silhouette_score\n",
        "import matplotlib.pyplot as plt\n",
        "from sklearn.cluster import KMeans\n",
        "from sklearn.metrics import accuracy_score\n",
        "from sklearn.model_selection import train_test_split\n",
        "import os\n",
        "\n",
        "# imports for task 2\n",
        "from sklearn.linear_model import LogisticRegression\n",
        "from sklearn import svm\n",
        "from sklearn.model_selection import cross_val_score"
      ]
    },
    {
      "cell_type": "code",
      "execution_count": null,
      "metadata": {
        "id": "94c_H8Yv7IDs",
        "colab": {
          "base_uri": "https://localhost:8080/",
          "height": 335
        },
        "outputId": "8818abc2-2ac3-40a8-93c7-77f6514db44d"
      },
      "outputs": [
        {
          "output_type": "stream",
          "name": "stderr",
          "text": [
            "/usr/local/lib/python3.10/dist-packages/torchvision/models/_utils.py:208: UserWarning: The parameter 'pretrained' is deprecated since 0.13 and may be removed in the future, please use 'weights' instead.\n",
            "  warnings.warn(\n",
            "/usr/local/lib/python3.10/dist-packages/torchvision/models/_utils.py:223: UserWarning: Arguments other than a weight enum or `None` for 'weights' are deprecated since 0.13 and may be removed in the future. The current behavior is equivalent to passing `weights=DenseNet121_Weights.IMAGENET1K_V1`. You can also use `weights=DenseNet121_Weights.DEFAULT` to get the most up-to-date weights.\n",
            "  warnings.warn(msg)\n",
            "Downloading: \"https://download.pytorch.org/models/densenet121-a639ec97.pth\" to /root/.cache/torch/hub/checkpoints/densenet121-a639ec97.pth\n",
            "100%|██████████| 30.8M/30.8M [00:00<00:00, 42.6MB/s]\n"
          ]
        },
        {
          "output_type": "error",
          "ename": "FileNotFoundError",
          "evalue": "[Errno 2] No such file or directory: 'train'",
          "traceback": [
            "\u001b[0;31m---------------------------------------------------------------------------\u001b[0m",
            "\u001b[0;31mFileNotFoundError\u001b[0m                         Traceback (most recent call last)",
            "\u001b[0;32m<ipython-input-2-d859858a7e9e>\u001b[0m in \u001b[0;36m<cell line: 30>\u001b[0;34m()\u001b[0m\n\u001b[1;32m     28\u001b[0m \u001b[0;34m\u001b[0m\u001b[0m\n\u001b[1;32m     29\u001b[0m \u001b[0;31m# Iterate through each folder in the dataset directory\u001b[0m\u001b[0;34m\u001b[0m\u001b[0;34m\u001b[0m\u001b[0m\n\u001b[0;32m---> 30\u001b[0;31m \u001b[0;32mfor\u001b[0m \u001b[0mfolder_name\u001b[0m \u001b[0;32min\u001b[0m \u001b[0mos\u001b[0m\u001b[0;34m.\u001b[0m\u001b[0mlistdir\u001b[0m\u001b[0;34m(\u001b[0m\u001b[0mdataset_dir\u001b[0m\u001b[0;34m)\u001b[0m\u001b[0;34m:\u001b[0m\u001b[0;34m\u001b[0m\u001b[0;34m\u001b[0m\u001b[0m\n\u001b[0m\u001b[1;32m     31\u001b[0m     \u001b[0mfolder_path\u001b[0m \u001b[0;34m=\u001b[0m \u001b[0mos\u001b[0m\u001b[0;34m.\u001b[0m\u001b[0mpath\u001b[0m\u001b[0;34m.\u001b[0m\u001b[0mjoin\u001b[0m\u001b[0;34m(\u001b[0m\u001b[0mdataset_dir\u001b[0m\u001b[0;34m,\u001b[0m \u001b[0mfolder_name\u001b[0m\u001b[0;34m)\u001b[0m\u001b[0;34m\u001b[0m\u001b[0;34m\u001b[0m\u001b[0m\n\u001b[1;32m     32\u001b[0m     \u001b[0;31m# Check if the path is a directory\u001b[0m\u001b[0;34m\u001b[0m\u001b[0;34m\u001b[0m\u001b[0m\n",
            "\u001b[0;31mFileNotFoundError\u001b[0m: [Errno 2] No such file or directory: 'train'"
          ]
        }
      ],
      "source": [
        "# Load the DenseNet model pre-trained on ImageNet\n",
        "model = densenet121(pretrained=True)\n",
        "# Modify the model to remove the last fully connected layer\n",
        "model = torch.nn.Sequential(*list(model.children())[:-1])\n",
        "# Add a global average pooling layer to the model\n",
        "model.add_module(\"global_avg_pool\", torch.nn.AdaptiveAvgPool2d(1))\n",
        "# Set the model to evaluation mode\n",
        "model.eval()\n",
        "\n",
        "# Define a series of transformations for preprocessing the images\n",
        "preprocess = transforms.Compose(\n",
        "    [\n",
        "        transforms.Resize(256),  # Resize the input images to 256x256\n",
        "        transforms.CenterCrop(224),  # Crop the images to 224x224\n",
        "        transforms.ToTensor(),  # Convert the images to PyTorch tensors\n",
        "        transforms.Normalize(\n",
        "            mean=[0.485, 0.456, 0.406], std=[0.229, 0.224, 0.225]\n",
        "        ),  # Normalize the images\n",
        "    ]\n",
        ")\n",
        "\n",
        "# Specify the directory containing the dataset\n",
        "dataset_dir = \"train\"\n",
        "\n",
        "# Initialize lists to hold image paths and their corresponding labels\n",
        "image_paths = []\n",
        "labels = []\n",
        "\n",
        "# Iterate through each folder in the dataset directory\n",
        "for folder_name in os.listdir(dataset_dir):\n",
        "    folder_path = os.path.join(dataset_dir, folder_name)\n",
        "    # Check if the path is a directory\n",
        "    if os.path.isdir(folder_path):\n",
        "        # Iterate through each file in the folder\n",
        "        for file_name in os.listdir(folder_path):\n",
        "            # Check if the file is a TIFF image\n",
        "            if file_name.endswith(\".tif\"):\n",
        "                # Append the image path and label to their respective lists\n",
        "                image_paths.append(os.path.join(folder_path, file_name))\n",
        "                labels.append(folder_name)\n",
        "\n",
        "# Convert categorical labels into numeric labels\n",
        "unique_labels = sorted(set(labels))\n",
        "label_to_numeric = {label: idx for idx, label in enumerate(unique_labels)}\n",
        "labels_numeric = [label_to_numeric[label] for label in labels]\n",
        "\n",
        "# Combine image paths and numeric labels into tuples for easy processing\n",
        "combined = list(zip(image_paths, labels_numeric))\n",
        "\n",
        "# Split the combined dataset into training/validation and testing sets\n",
        "train_test_combined, val_combined = train_test_split(\n",
        "    combined, test_size=0.1, random_state=42\n",
        ")\n",
        "\n",
        "# Further split the training/validation set into separate training and validation sets\n",
        "train_combined, test_combined = train_test_split(\n",
        "    train_val_combined, test_size=0.1, random_state=42\n",
        ")\n",
        "\n",
        "\n",
        "def extract_features_and_labels(combined_data):\n",
        "    \"\"\"\n",
        "    Extract features and labels from the given dataset.\n",
        "\n",
        "    Parameters:\n",
        "    - combined_data: A list of tuples, each containing the path to an image and its numeric label.\n",
        "\n",
        "    Returns:\n",
        "    - A tuple containing two numpy arrays: one for the extracted features and one for the corresponding labels.\n",
        "    \"\"\"\n",
        "    features = []\n",
        "    labels = []\n",
        "    for path, label in combined_data:\n",
        "        # Load the image from the specified path\n",
        "        image = Image.open(path)\n",
        "        # Preprocess the image\n",
        "        input_tensor = preprocess(image)\n",
        "        input_batch = input_tensor.unsqueeze(0)\n",
        "        # Extract features using the model\n",
        "        with torch.no_grad():\n",
        "            output = model(input_batch)\n",
        "        features.append(output.squeeze().detach().numpy())\n",
        "        labels.append(label)\n",
        "    return np.array(features), np.array(labels)\n",
        "\n",
        "\n",
        "# Extract features and labels for training, testing, and validation sets\n",
        "train_features, train_labels = extract_features_and_labels(train_combined)\n",
        "test_features, test_labels = extract_features_and_labels(test_combined)\n",
        "val_features, val_labels = extract_features_and_labels(val_combined)\n",
        "\n",
        "# Save the extracted features and labels to disk\n",
        "np.save(\"train_features.npy\", train_features)\n",
        "np.save(\"test_features.npy\", test_features)\n",
        "np.save(\"val_features.npy\", val_features)\n",
        "np.save(\"train_labels.npy\", train_labels)\n",
        "np.save(\"test_labels.npy\", test_labels)\n",
        "np.save(\"val_labels.npy\", val_labels)\n",
        "\n",
        "print(\"Features and labels for training, testing, and validation sets have been saved.\")\n",
        "\n",
        "# Note on fixing potential warning with updated model loading approach:\n",
        "# Uncomment and use the following code to address deprecation warnings related to loading pretrained models:\n",
        "# from torchvision.models import densenet121, DenseNet121_Weights\n",
        "# model_weights = DenseNet121_Weights.IMAGENET1K_V1  # Alternatively, use DenseNet121_Weights.DEFAULT for the latest weights\n",
        "# model = densenet121(weights=model_weights)\n",
        "# Modify the model similarly as above to prepare for feature extraction\n",
        "# model.eval()"
      ]
    },
    {
      "cell_type": "markdown",
      "metadata": {
        "id": "2DguMbSShmHT"
      },
      "source": [
        " Task 2: High Bias Classification Method (5%)\n",
        " Choose a classification method and let is have a high bias.\n",
        " Train it on the generated features and discuss why it is underfitting.\n",
        "\n",
        " Insert your code here for Task 2\n",
        "\n",
        "\n"
      ]
    },
    {
      "cell_type": "code",
      "execution_count": null,
      "metadata": {
        "id": "xG7aIh1lhpW3",
        "outputId": "e254441d-2591-4163-ef74-1c884f3d5229"
      },
      "outputs": [
        {
          "name": "stdout",
          "output_type": "stream",
          "text": [
            "Logistic Regression Fold 1 Accuracy: 1.0\n",
            "Logistic Regression Fold 2 Accuracy: 0.9523809523809523\n",
            "Logistic Regression Fold 3 Accuracy: 0.9841269841269841\n",
            "Logistic Regression Fold 4 Accuracy: 0.9523809523809523\n",
            "Logistic Regression Fold 5 Accuracy: 0.9841269841269841\n",
            "Logistic Regression Fold 6 Accuracy: 0.9841269841269841\n",
            "Logistic Regression Fold 7 Accuracy: 0.9682539682539683\n",
            "Logistic Regression Fold 8 Accuracy: 0.9841269841269841\n",
            "Logistic Regression Fold 9 Accuracy: 0.9523809523809523\n",
            "Logistic Regression Fold 10 Accuracy: 1.0\n",
            "Mean Logistic Regression Accuracy: 0.976190476190476\n",
            "SVM Fold 1 Accuracy: 0.96875\n",
            "SVM Fold 2 Accuracy: 0.9682539682539683\n",
            "SVM Fold 3 Accuracy: 0.9841269841269841\n",
            "SVM Fold 4 Accuracy: 0.9206349206349206\n",
            "SVM Fold 5 Accuracy: 0.9841269841269841\n",
            "SVM Fold 6 Accuracy: 0.9682539682539683\n",
            "SVM Fold 7 Accuracy: 0.9682539682539683\n",
            "SVM Fold 8 Accuracy: 0.9682539682539683\n",
            "SVM Fold 9 Accuracy: 0.9682539682539683\n",
            "SVM Fold 10 Accuracy: 0.9682539682539683\n",
            "Mean SVM Accuracy: 0.9667162698412698\n",
            "SVM Accuracy Variance: 0.00027480798453640733\n"
          ]
        }
      ],
      "source": [
        "# Use a multi-class SVM method to classify data\n",
        "hb_svm_model = svm.SVC(kernel=\"linear\", C=0.00001, gamma=10000)\n",
        "hb_svm_model.fit(train_features,train_labels)\n",
        "hb_svm_train_score = hb_svm_model.score(train_features, train_labels, sample_weight=None)\n",
        "hb_svm_val_score = hb_svm_model.score(val_features, val_labels, sample_weight=None)\n",
        "\n",
        "print(hb_svm_train_score,hb_svm_val_score)"
      ]
    },
    {
      "cell_type": "markdown",
      "metadata": {
        "id": "kR8MxxoGhpxF"
      },
      "source": [
        " Task 3: High Variance Classification Method (5%)\n",
        " Use the chosen classification method and let it have a high variance.\n",
        " Train it on the generated features and discuss why it is overfitting.\n",
        "\n",
        " Insert your code here for Task 3\n",
        "\n",
        "\n"
      ]
    },
    {
      "cell_type": "code",
      "execution_count": null,
      "metadata": {
        "id": "TrsSDN_7huYB",
        "outputId": "e0fe786c-94a4-4416-af5e-1f780578aebc"
      },
      "outputs": [
        {
          "name": "stdout",
          "output_type": "stream",
          "text": [
            "SVM Fold 1 Accuracy: 0.890625\n",
            "SVM Fold 2 Accuracy: 0.8888888888888888\n",
            "SVM Fold 3 Accuracy: 0.9047619047619048\n",
            "SVM Fold 4 Accuracy: 0.8412698412698413\n",
            "SVM Fold 5 Accuracy: 0.8888888888888888\n",
            "SVM Fold 6 Accuracy: 0.9206349206349206\n",
            "SVM Fold 7 Accuracy: 0.9047619047619048\n",
            "SVM Fold 8 Accuracy: 0.8888888888888888\n",
            "SVM Fold 9 Accuracy: 0.873015873015873\n",
            "SVM Fold 10 Accuracy: 0.9047619047619048\n",
            "Mean SVM Accuracy: 0.8906498015873016\n",
            "SVM Accuracy Variance: 0.0004255200705861044\n"
          ]
        }
      ],
      "source": [
        "# Use a multi-class SVM method to classify data\n",
        "hv_svm_model = svm.SVC(kernel='sigmoid')\n",
        "hv_svm_scores = cross_val_score(hv_svm_model, train_features, train_labels, cv=k)\n",
        "\n",
        "# Print the cross-validation scores\n",
        "for i, hv_score in enumerate(hv_svm_scores):\n",
        "    print(f\"SVM Fold {i+1} Accuracy: {hv_score}\")\n",
        "\n",
        "# Calculate and print the mean accuracy across all folds\n",
        "hv_mean_accuracy = np.mean(hv_svm_scores)\n",
        "print(f\"Mean SVM Accuracy: {hv_mean_accuracy}\")\n",
        "\n",
        "# Calculate and print the accuracy variance across all folds\n",
        "hv_accuracy_var = np.var(hv_svm_scores)\n",
        "print(f\"SVM Accuracy Variance: {hv_accuracy_var}\")"
      ]
    },
    {
      "cell_type": "markdown",
      "metadata": {
        "id": "yzxSVPWXht-m"
      },
      "source": [
        " Task 4: Balanced Classification Method (15%)\n",
        " Use the chosen classification method and let it balance the bias and variance.\n",
        " Train it on the generated features, possibly adjusting parameters.\n",
        " Discuss insights into achieving balance.\n",
        "\n",
        " Insert your code here for Task 4\n",
        "\n",
        "\n"
      ]
    },
    {
      "cell_type": "code",
      "execution_count": null,
      "metadata": {
        "id": "hjgmSxk7h7vZ",
        "outputId": "2b37c233-8b9b-47a4-8aa2-ff63dddefc6f"
      },
      "outputs": [
        {
          "name": "stdout",
          "output_type": "stream",
          "text": [
            "SVM Fold 1 Accuracy: 0.96875\n",
            "SVM Fold 2 Accuracy: 0.9682539682539683\n",
            "SVM Fold 3 Accuracy: 0.9841269841269841\n",
            "SVM Fold 4 Accuracy: 0.9206349206349206\n",
            "SVM Fold 5 Accuracy: 0.9841269841269841\n",
            "SVM Fold 6 Accuracy: 0.9523809523809523\n",
            "SVM Fold 7 Accuracy: 0.9682539682539683\n",
            "SVM Fold 8 Accuracy: 0.9682539682539683\n",
            "SVM Fold 9 Accuracy: 0.9682539682539683\n",
            "SVM Fold 10 Accuracy: 0.9682539682539683\n",
            "Balanced SVM Mean Accuracy: 0.9651289682539682\n",
            "Balanced SVM Accuracy Variance: 0.00029260213923532394\n"
          ]
        }
      ],
      "source": [
        "balanced_svm_model = svm.SVC(kernel='linear')\n",
        "balanced_svm_scores = cross_val_score(balanced_svm_model, train_features,\n",
        "                                      train_labels, cv=k)\n",
        "\n",
        "# Print the cross-validation scores\n",
        "for i, balanced_score in enumerate(balanced_svm_scores):\n",
        "    print(f\"SVM Fold {i+1} Accuracy: {balanced_score}\")\n",
        "\n",
        "# Calculate and print the mean accuracy across all folds\n",
        "balanced_mean_accuracy = np.mean(balanced_svm_scores)\n",
        "print(f\"Balanced SVM Mean Accuracy: {balanced_mean_accuracy}\")\n",
        "\n",
        "# Calculate and print the accuracy variance across all folds\n",
        "balanced_accuracy_var = np.var(balanced_svm_scores)\n",
        "print(f\"Balanced SVM Accuracy Variance: {balanced_accuracy_var}\")"
      ]
    },
    {
      "cell_type": "markdown",
      "metadata": {
        "id": "ZKRG3PfFh8Ot"
      },
      "source": [
        " Task 5: K-Means Clustering (20%)\n",
        " Apply K-Means clustering on the generated features.\n",
        " Test with available labels and report accuracy.\n",
        " Experiment with automated K and compare with manually set 20 clusters.\n",
        "\n",
        " Insert your code here for Task 5\n",
        "\n",
        "\n"
      ]
    },
    {
      "cell_type": "code",
      "execution_count": null,
      "metadata": {
        "id": "VLuOkJyAh-mN",
        "outputId": "05037996-6178-470b-cf8c-11a18f765973"
      },
      "outputs": [
        {
          "name": "stderr",
          "output_type": "stream",
          "text": [
            "c:\\Users\\marsh\\anaconda3\\envs\\SYDE522\\lib\\site-packages\\sklearn\\cluster\\_kmeans.py:1416: FutureWarning: The default value of `n_init` will change from 10 to 'auto' in 1.4. Set the value of `n_init` explicitly to suppress the warning\n",
            "  super()._check_params_vs_input(X, default_n_init=10)\n",
            "c:\\Users\\marsh\\anaconda3\\envs\\SYDE522\\lib\\site-packages\\sklearn\\cluster\\_kmeans.py:1440: UserWarning: KMeans is known to have a memory leak on Windows with MKL, when there are less chunks than available threads. You can avoid it by setting the environment variable OMP_NUM_THREADS=3.\n",
            "  warnings.warn(\n",
            "c:\\Users\\marsh\\anaconda3\\envs\\SYDE522\\lib\\site-packages\\sklearn\\cluster\\_kmeans.py:1440: UserWarning: KMeans is known to have a memory leak on Windows with MKL, when there are less chunks than available threads. You can avoid it by setting the environment variable OMP_NUM_THREADS=3.\n",
            "  warnings.warn(\n",
            "c:\\Users\\marsh\\anaconda3\\envs\\SYDE522\\lib\\site-packages\\sklearn\\cluster\\_kmeans.py:1440: UserWarning: KMeans is known to have a memory leak on Windows with MKL, when there are less chunks than available threads. You can avoid it by setting the environment variable OMP_NUM_THREADS=3.\n",
            "  warnings.warn(\n",
            "c:\\Users\\marsh\\anaconda3\\envs\\SYDE522\\lib\\site-packages\\sklearn\\cluster\\_kmeans.py:1440: UserWarning: KMeans is known to have a memory leak on Windows with MKL, when there are less chunks than available threads. You can avoid it by setting the environment variable OMP_NUM_THREADS=3.\n",
            "  warnings.warn(\n",
            "c:\\Users\\marsh\\anaconda3\\envs\\SYDE522\\lib\\site-packages\\sklearn\\cluster\\_kmeans.py:1440: UserWarning: KMeans is known to have a memory leak on Windows with MKL, when there are less chunks than available threads. You can avoid it by setting the environment variable OMP_NUM_THREADS=3.\n",
            "  warnings.warn(\n",
            "c:\\Users\\marsh\\anaconda3\\envs\\SYDE522\\lib\\site-packages\\sklearn\\cluster\\_kmeans.py:1440: UserWarning: KMeans is known to have a memory leak on Windows with MKL, when there are less chunks than available threads. You can avoid it by setting the environment variable OMP_NUM_THREADS=3.\n",
            "  warnings.warn(\n",
            "c:\\Users\\marsh\\anaconda3\\envs\\SYDE522\\lib\\site-packages\\sklearn\\cluster\\_kmeans.py:1440: UserWarning: KMeans is known to have a memory leak on Windows with MKL, when there are less chunks than available threads. You can avoid it by setting the environment variable OMP_NUM_THREADS=3.\n",
            "  warnings.warn(\n",
            "c:\\Users\\marsh\\anaconda3\\envs\\SYDE522\\lib\\site-packages\\sklearn\\cluster\\_kmeans.py:1440: UserWarning: KMeans is known to have a memory leak on Windows with MKL, when there are less chunks than available threads. You can avoid it by setting the environment variable OMP_NUM_THREADS=3.\n",
            "  warnings.warn(\n",
            "c:\\Users\\marsh\\anaconda3\\envs\\SYDE522\\lib\\site-packages\\sklearn\\cluster\\_kmeans.py:1440: UserWarning: KMeans is known to have a memory leak on Windows with MKL, when there are less chunks than available threads. You can avoid it by setting the environment variable OMP_NUM_THREADS=3.\n",
            "  warnings.warn(\n",
            "c:\\Users\\marsh\\anaconda3\\envs\\SYDE522\\lib\\site-packages\\sklearn\\cluster\\_kmeans.py:1440: UserWarning: KMeans is known to have a memory leak on Windows with MKL, when there are less chunks than available threads. You can avoid it by setting the environment variable OMP_NUM_THREADS=3.\n",
            "  warnings.warn(\n",
            "c:\\Users\\marsh\\anaconda3\\envs\\SYDE522\\lib\\site-packages\\sklearn\\cluster\\_kmeans.py:1440: UserWarning: KMeans is known to have a memory leak on Windows with MKL, when there are less chunks than available threads. You can avoid it by setting the environment variable OMP_NUM_THREADS=3.\n",
            "  warnings.warn(\n",
            "c:\\Users\\marsh\\anaconda3\\envs\\SYDE522\\lib\\site-packages\\sklearn\\cluster\\_kmeans.py:1440: UserWarning: KMeans is known to have a memory leak on Windows with MKL, when there are less chunks than available threads. You can avoid it by setting the environment variable OMP_NUM_THREADS=3.\n",
            "  warnings.warn(\n",
            "c:\\Users\\marsh\\anaconda3\\envs\\SYDE522\\lib\\site-packages\\sklearn\\cluster\\_kmeans.py:1440: UserWarning: KMeans is known to have a memory leak on Windows with MKL, when there are less chunks than available threads. You can avoid it by setting the environment variable OMP_NUM_THREADS=3.\n",
            "  warnings.warn(\n",
            "c:\\Users\\marsh\\anaconda3\\envs\\SYDE522\\lib\\site-packages\\sklearn\\cluster\\_kmeans.py:1440: UserWarning: KMeans is known to have a memory leak on Windows with MKL, when there are less chunks than available threads. You can avoid it by setting the environment variable OMP_NUM_THREADS=3.\n",
            "  warnings.warn(\n",
            "c:\\Users\\marsh\\anaconda3\\envs\\SYDE522\\lib\\site-packages\\sklearn\\cluster\\_kmeans.py:1440: UserWarning: KMeans is known to have a memory leak on Windows with MKL, when there are less chunks than available threads. You can avoid it by setting the environment variable OMP_NUM_THREADS=3.\n",
            "  warnings.warn(\n",
            "c:\\Users\\marsh\\anaconda3\\envs\\SYDE522\\lib\\site-packages\\sklearn\\cluster\\_kmeans.py:1440: UserWarning: KMeans is known to have a memory leak on Windows with MKL, when there are less chunks than available threads. You can avoid it by setting the environment variable OMP_NUM_THREADS=3.\n",
            "  warnings.warn(\n",
            "c:\\Users\\marsh\\anaconda3\\envs\\SYDE522\\lib\\site-packages\\sklearn\\cluster\\_kmeans.py:1440: UserWarning: KMeans is known to have a memory leak on Windows with MKL, when there are less chunks than available threads. You can avoid it by setting the environment variable OMP_NUM_THREADS=3.\n",
            "  warnings.warn(\n",
            "c:\\Users\\marsh\\anaconda3\\envs\\SYDE522\\lib\\site-packages\\sklearn\\cluster\\_kmeans.py:1440: UserWarning: KMeans is known to have a memory leak on Windows with MKL, when there are less chunks than available threads. You can avoid it by setting the environment variable OMP_NUM_THREADS=3.\n",
            "  warnings.warn(\n",
            "c:\\Users\\marsh\\anaconda3\\envs\\SYDE522\\lib\\site-packages\\sklearn\\cluster\\_kmeans.py:1440: UserWarning: KMeans is known to have a memory leak on Windows with MKL, when there are less chunks than available threads. You can avoid it by setting the environment variable OMP_NUM_THREADS=3.\n",
            "  warnings.warn(\n",
            "c:\\Users\\marsh\\anaconda3\\envs\\SYDE522\\lib\\site-packages\\sklearn\\cluster\\_kmeans.py:1440: UserWarning: KMeans is known to have a memory leak on Windows with MKL, when there are less chunks than available threads. You can avoid it by setting the environment variable OMP_NUM_THREADS=3.\n",
            "  warnings.warn(\n",
            "c:\\Users\\marsh\\anaconda3\\envs\\SYDE522\\lib\\site-packages\\sklearn\\cluster\\_kmeans.py:1440: UserWarning: KMeans is known to have a memory leak on Windows with MKL, when there are less chunks than available threads. You can avoid it by setting the environment variable OMP_NUM_THREADS=3.\n",
            "  warnings.warn(\n",
            "c:\\Users\\marsh\\anaconda3\\envs\\SYDE522\\lib\\site-packages\\sklearn\\cluster\\_kmeans.py:1440: UserWarning: KMeans is known to have a memory leak on Windows with MKL, when there are less chunks than available threads. You can avoid it by setting the environment variable OMP_NUM_THREADS=3.\n",
            "  warnings.warn(\n",
            "c:\\Users\\marsh\\anaconda3\\envs\\SYDE522\\lib\\site-packages\\sklearn\\cluster\\_kmeans.py:1440: UserWarning: KMeans is known to have a memory leak on Windows with MKL, when there are less chunks than available threads. You can avoid it by setting the environment variable OMP_NUM_THREADS=3.\n",
            "  warnings.warn(\n",
            "c:\\Users\\marsh\\anaconda3\\envs\\SYDE522\\lib\\site-packages\\sklearn\\cluster\\_kmeans.py:1440: UserWarning: KMeans is known to have a memory leak on Windows with MKL, when there are less chunks than available threads. You can avoid it by setting the environment variable OMP_NUM_THREADS=3.\n",
            "  warnings.warn(\n",
            "c:\\Users\\marsh\\anaconda3\\envs\\SYDE522\\lib\\site-packages\\sklearn\\cluster\\_kmeans.py:1440: UserWarning: KMeans is known to have a memory leak on Windows with MKL, when there are less chunks than available threads. You can avoid it by setting the environment variable OMP_NUM_THREADS=3.\n",
            "  warnings.warn(\n",
            "c:\\Users\\marsh\\anaconda3\\envs\\SYDE522\\lib\\site-packages\\sklearn\\cluster\\_kmeans.py:1440: UserWarning: KMeans is known to have a memory leak on Windows with MKL, when there are less chunks than available threads. You can avoid it by setting the environment variable OMP_NUM_THREADS=3.\n",
            "  warnings.warn(\n",
            "c:\\Users\\marsh\\anaconda3\\envs\\SYDE522\\lib\\site-packages\\sklearn\\cluster\\_kmeans.py:1440: UserWarning: KMeans is known to have a memory leak on Windows with MKL, when there are less chunks than available threads. You can avoid it by setting the environment variable OMP_NUM_THREADS=3.\n",
            "  warnings.warn(\n",
            "c:\\Users\\marsh\\anaconda3\\envs\\SYDE522\\lib\\site-packages\\sklearn\\cluster\\_kmeans.py:1440: UserWarning: KMeans is known to have a memory leak on Windows with MKL, when there are less chunks than available threads. You can avoid it by setting the environment variable OMP_NUM_THREADS=3.\n",
            "  warnings.warn(\n",
            "c:\\Users\\marsh\\anaconda3\\envs\\SYDE522\\lib\\site-packages\\sklearn\\cluster\\_kmeans.py:1440: UserWarning: KMeans is known to have a memory leak on Windows with MKL, when there are less chunks than available threads. You can avoid it by setting the environment variable OMP_NUM_THREADS=3.\n",
            "  warnings.warn(\n",
            "c:\\Users\\marsh\\anaconda3\\envs\\SYDE522\\lib\\site-packages\\sklearn\\cluster\\_kmeans.py:1440: UserWarning: KMeans is known to have a memory leak on Windows with MKL, when there are less chunks than available threads. You can avoid it by setting the environment variable OMP_NUM_THREADS=3.\n",
            "  warnings.warn(\n"
          ]
        },
        {
          "data": {
            "image/png": "[encoded data removed]",
            "text/plain": [
              "<Figure size 640x480 with 1 Axes>"
            ]
          },
          "metadata": {},
          "output_type": "display_data"
        },
        {
          "name": "stdout",
          "output_type": "stream",
          "text": [
            "Optimal number of clusters (k_optimal): 2\n",
            "Cluster assignments with optimal clusters: [1 0 0 1 1 0 1 1 1 1 1 1 1 0 1 1 1 1 1 1 0 0 1 1 1 1 0 1 1 1 1 1 1 0 1 1 0\n",
            " 1 1 1 1 1 1 1 1 0 1 0 1 1 1 0 0 1 1 1 1 0 0 1 1 1 1 1 1 1 1 1 1 1 1 0 1 1\n",
            " 0 1 1 0 0 0 1 0 1 0 0 0 1 1 1 1 1 1 0 1 1 1 0 1 0 1 1 1 1 1 1 1 1 1 0 1 0\n",
            " 1 1 0 1 1 0 1 1 1 1 1 1 1 0 1 0 1 1 1 1 0 0 1 1 0 1 1 1 1 0 1 1 1 1 1 0 0\n",
            " 1 1 0 1 1 1 1 1 1 0 1 1 1 1 0 0 0 1 1 1 1 1 0 0 1 1 1 0 1 1 0 0 1 0 0 1 1\n",
            " 1 1 1 1 0 1 1 1 1 0 1 1 0 1 1 0 0 0 1 1 1 1 1 1 0 0 1 1 1 1 1 1 1 1 1 1 1\n",
            " 1 1 1 1 1 0 1 0 1 1 1 1 1 0 0 1 1 1 1 1 1 1 1 0 1 1 1 1 1 1 1 1 1 1 1 1 1\n",
            " 1 1 0 1 1 1 1 1 0 1 0 1 0 0 1 1 1 1 1 1 1 0 0 1 0 1 1 0 1 1 1 0 1 1 1 0 1\n",
            " 1 1 1 1 0 0 1 1 1 0 0 1 1 0 1 1 1 0 0 1 1 1 0 1 1 0 0 1 1 1 0 1 1 1 1 1 1\n",
            " 1 1 0 1 1 1 1 1 1 0 1 1 0 1 1 1 0 1 1 1 0 0 0 1 0 1 1 1 1 0 1 1 1 1 1 1 1\n",
            " 1 0 0 1 1 1 1 1 1 1 1 0 1 1 1 1 0 0 1 1 1 1 1 0 0 1 0 1 0 1 1 1 1 1 1 1 0\n",
            " 0 1 1 1 1 1 1 0 1 0 1 1 1 1 1 1 0 1 0 0 0 0 1 1 1 1 1 1 0 1 1 0 1 1 0 1 1\n",
            " 1 1 1 0 1 1 0 1 1 1 1 1 1 1 1 1 1 0 1 1 1 0 1 1 1 1 1 1 0 1 1 1 1 1 1 0 1\n",
            " 1 1 1 0 1 1 1 0 1 0 1 1 0 1 1 1 1 0 1 0 0 1 1 1 0 1 1 1 1 1 0 1 1 0 1 1 0\n",
            " 1 1 1 1 0 1 0 1 1 1 1 0 1 1 1 0 0 0 0 0 1 1 1 1 1 0 1 1 1 1 0 1 0 0 0 1 1\n",
            " 0 1 1 1 1 1 0 1 1 1 1 1 0 0 1 0 1 0 1 0 1 1 1 0 1 1 1 1 1 1 1 0 0 1 0 0 0\n",
            " 1 1 0 1 1 1 0 1 1 0 1 1 1 0 1 1 1 1 1 1 1 0 1 0 1 1 0 1 1 1 1 0 0 1 1 1 1\n",
            " 1 1]\n"
          ]
        },
        {
          "name": "stderr",
          "output_type": "stream",
          "text": [
            "c:\\Users\\marsh\\anaconda3\\envs\\SYDE522\\lib\\site-packages\\sklearn\\cluster\\_kmeans.py:1416: FutureWarning: The default value of `n_init` will change from 10 to 'auto' in 1.4. Set the value of `n_init` explicitly to suppress the warning\n",
            "  super()._check_params_vs_input(X, default_n_init=10)\n",
            "c:\\Users\\marsh\\anaconda3\\envs\\SYDE522\\lib\\site-packages\\sklearn\\cluster\\_kmeans.py:1440: UserWarning: KMeans is known to have a memory leak on Windows with MKL, when there are less chunks than available threads. You can avoid it by setting the environment variable OMP_NUM_THREADS=3.\n",
            "  warnings.warn(\n"
          ]
        }
      ],
      "source": [
        "# Assuming 'train_features' are the features extracted from the images\n",
        "\n",
        "# Apply K-Means with manually set 20 clusters\n",
        "kmeans_20 = KMeans(n_clusters=20, random_state=42)\n",
        "clusters_20 = kmeans_20.fit_predict(train_features)\n",
        "\n",
        "# Since KMeans does not inherently provide labels matching to original labels,\n",
        "# a mapping function or strategy is needed to evaluate clustering accuracy.\n",
        "\n",
        "# Apply K-Means with automated K (e.g., using the Elbow method or other heuristic)\n",
        "# This step would involve determining the optimal number of clusters K,\n",
        "# which can be done using methods like the Elbow Method or the Silhouette Score.\n",
        "\n",
        "# Example for Elbow Method (commented out because it requires plotting)\n",
        "\n",
        "\n",
        "wcss = []\n",
        "for i in range(1, 30):\n",
        "    kmeans = KMeans(n_clusters=i, random_state=42, n_init=10)\n",
        "    kmeans.fit(train_features)\n",
        "    wcss.append(kmeans.inertia_)\n",
        "plt.plot(range(1, 30), wcss)\n",
        "plt.title(\"Elbow Method\")\n",
        "plt.xlabel(\"Number of clusters\")\n",
        "plt.ylabel(\"WCSS\")  # Within cluster sum of squares\n",
        "plt.show()\n",
        "# Determine the elbow point in the WCSS\n",
        "diffs = np.diff(wcss)\n",
        "k_optimal = (\n",
        "    np.argmin(diffs) + 2\n",
        ")  # +2 because the first cluster number is 2 (index starts from 0)\n",
        "# Assuming optimal K is found, e.g., k_optimal\n",
        "kmeans_opt = KMeans(n_clusters=k_optimal, random_state=42)\n",
        "clusters_opt = kmeans_opt.fit_predict(train_features)\n",
        "print(\"Optimal number of clusters (k_optimal):\", k_optimal)\n",
        "print(\"Cluster assignments with optimal clusters:\", clusters_opt)\n",
        "# Accuracy reporti#ng would require a strategy to match cluster labels to true labels, which is non-trivial\n",
        "# because clustering is unsupervised and does not directly produce class labels that match with the ground truth."
      ]
    },
    {
      "cell_type": "markdown",
      "metadata": {
        "id": "43sPfI7Jh-9p"
      },
      "source": [
        " Task 6: Additional Clustering Algorithm (10%)\n",
        " Choose another clustering algorithm and apply it on the features.\n",
        " Test accuracy with available labels.\n",
        "\n",
        " Insert your code here for Task 6\n",
        "\n",
        "\n"
      ]
    },
    {
      "cell_type": "code",
      "execution_count": null,
      "metadata": {
        "id": "Nn9f41LWiCDr",
        "outputId": "361aeaba-9d78-43ba-84bc-91d0be613686"
      },
      "outputs": [
        {
          "ename": "ValueError",
          "evalue": "Number of labels is 1. Valid values are 2 to n_samples - 1 (inclusive)",
          "output_type": "error",
          "traceback": [
            "\u001b[1;31m---------------------------------------------------------------------------\u001b[0m",
            "\u001b[1;31mValueError\u001b[0m                                Traceback (most recent call last)",
            "Cell \u001b[1;32mIn[11], line 8\u001b[0m\n\u001b[0;32m      5\u001b[0m dbscan_clusters \u001b[38;5;241m=\u001b[39m dbscan\u001b[38;5;241m.\u001b[39mfit_predict(train_features)\n\u001b[0;32m      7\u001b[0m \u001b[38;5;66;03m# The silhouette score can be used to evaluate the quality of the clustering\u001b[39;00m\n\u001b[1;32m----> 8\u001b[0m silhouette_avg \u001b[38;5;241m=\u001b[39m \u001b[43msilhouette_score\u001b[49m\u001b[43m(\u001b[49m\u001b[43mtrain_features\u001b[49m\u001b[43m,\u001b[49m\u001b[43m \u001b[49m\u001b[43mdbscan_clusters\u001b[49m\u001b[43m)\u001b[49m\n\u001b[0;32m      9\u001b[0m \u001b[38;5;28mprint\u001b[39m(\u001b[38;5;124mf\u001b[39m\u001b[38;5;124m\"\u001b[39m\u001b[38;5;124mSilhouette Score: \u001b[39m\u001b[38;5;132;01m{\u001b[39;00msilhouette_avg\u001b[38;5;132;01m}\u001b[39;00m\u001b[38;5;124m\"\u001b[39m)\n",
            "File \u001b[1;32mc:\\Users\\marsh\\anaconda3\\envs\\SYDE522\\lib\\site-packages\\sklearn\\utils\\_param_validation.py:214\u001b[0m, in \u001b[0;36mvalidate_params.<locals>.decorator.<locals>.wrapper\u001b[1;34m(*args, **kwargs)\u001b[0m\n\u001b[0;32m    208\u001b[0m \u001b[38;5;28;01mtry\u001b[39;00m:\n\u001b[0;32m    209\u001b[0m     \u001b[38;5;28;01mwith\u001b[39;00m config_context(\n\u001b[0;32m    210\u001b[0m         skip_parameter_validation\u001b[38;5;241m=\u001b[39m(\n\u001b[0;32m    211\u001b[0m             prefer_skip_nested_validation \u001b[38;5;129;01mor\u001b[39;00m global_skip_validation\n\u001b[0;32m    212\u001b[0m         )\n\u001b[0;32m    213\u001b[0m     ):\n\u001b[1;32m--> 214\u001b[0m         \u001b[38;5;28;01mreturn\u001b[39;00m func(\u001b[38;5;241m*\u001b[39margs, \u001b[38;5;241m*\u001b[39m\u001b[38;5;241m*\u001b[39mkwargs)\n\u001b[0;32m    215\u001b[0m \u001b[38;5;28;01mexcept\u001b[39;00m InvalidParameterError \u001b[38;5;28;01mas\u001b[39;00m e:\n\u001b[0;32m    216\u001b[0m     \u001b[38;5;66;03m# When the function is just a wrapper around an estimator, we allow\u001b[39;00m\n\u001b[0;32m    217\u001b[0m     \u001b[38;5;66;03m# the function to delegate validation to the estimator, but we replace\u001b[39;00m\n\u001b[0;32m    218\u001b[0m     \u001b[38;5;66;03m# the name of the estimator by the name of the function in the error\u001b[39;00m\n\u001b[0;32m    219\u001b[0m     \u001b[38;5;66;03m# message to avoid confusion.\u001b[39;00m\n\u001b[0;32m    220\u001b[0m     msg \u001b[38;5;241m=\u001b[39m re\u001b[38;5;241m.\u001b[39msub(\n\u001b[0;32m    221\u001b[0m         \u001b[38;5;124mr\u001b[39m\u001b[38;5;124m\"\u001b[39m\u001b[38;5;124mparameter of \u001b[39m\u001b[38;5;124m\\\u001b[39m\u001b[38;5;124mw+ must be\u001b[39m\u001b[38;5;124m\"\u001b[39m,\n\u001b[0;32m    222\u001b[0m         \u001b[38;5;124mf\u001b[39m\u001b[38;5;124m\"\u001b[39m\u001b[38;5;124mparameter of \u001b[39m\u001b[38;5;132;01m{\u001b[39;00mfunc\u001b[38;5;241m.\u001b[39m\u001b[38;5;18m__qualname__\u001b[39m\u001b[38;5;132;01m}\u001b[39;00m\u001b[38;5;124m must be\u001b[39m\u001b[38;5;124m\"\u001b[39m,\n\u001b[0;32m    223\u001b[0m         \u001b[38;5;28mstr\u001b[39m(e),\n\u001b[0;32m    224\u001b[0m     )\n",
            "File \u001b[1;32mc:\\Users\\marsh\\anaconda3\\envs\\SYDE522\\lib\\site-packages\\sklearn\\metrics\\cluster\\_unsupervised.py:130\u001b[0m, in \u001b[0;36msilhouette_score\u001b[1;34m(X, labels, metric, sample_size, random_state, **kwds)\u001b[0m\n\u001b[0;32m    128\u001b[0m     \u001b[38;5;28;01melse\u001b[39;00m:\n\u001b[0;32m    129\u001b[0m         X, labels \u001b[38;5;241m=\u001b[39m X[indices], labels[indices]\n\u001b[1;32m--> 130\u001b[0m \u001b[38;5;28;01mreturn\u001b[39;00m np\u001b[38;5;241m.\u001b[39mmean(silhouette_samples(X, labels, metric\u001b[38;5;241m=\u001b[39mmetric, \u001b[38;5;241m*\u001b[39m\u001b[38;5;241m*\u001b[39mkwds))\n",
            "File \u001b[1;32mc:\\Users\\marsh\\anaconda3\\envs\\SYDE522\\lib\\site-packages\\sklearn\\utils\\_param_validation.py:187\u001b[0m, in \u001b[0;36mvalidate_params.<locals>.decorator.<locals>.wrapper\u001b[1;34m(*args, **kwargs)\u001b[0m\n\u001b[0;32m    185\u001b[0m global_skip_validation \u001b[38;5;241m=\u001b[39m get_config()[\u001b[38;5;124m\"\u001b[39m\u001b[38;5;124mskip_parameter_validation\u001b[39m\u001b[38;5;124m\"\u001b[39m]\n\u001b[0;32m    186\u001b[0m \u001b[38;5;28;01mif\u001b[39;00m global_skip_validation:\n\u001b[1;32m--> 187\u001b[0m     \u001b[38;5;28;01mreturn\u001b[39;00m func(\u001b[38;5;241m*\u001b[39margs, \u001b[38;5;241m*\u001b[39m\u001b[38;5;241m*\u001b[39mkwargs)\n\u001b[0;32m    189\u001b[0m func_sig \u001b[38;5;241m=\u001b[39m signature(func)\n\u001b[0;32m    191\u001b[0m \u001b[38;5;66;03m# Map *args/**kwargs to the function signature\u001b[39;00m\n",
            "File \u001b[1;32mc:\\Users\\marsh\\anaconda3\\envs\\SYDE522\\lib\\site-packages\\sklearn\\metrics\\cluster\\_unsupervised.py:276\u001b[0m, in \u001b[0;36msilhouette_samples\u001b[1;34m(X, labels, metric, **kwds)\u001b[0m\n\u001b[0;32m    274\u001b[0m n_samples \u001b[38;5;241m=\u001b[39m \u001b[38;5;28mlen\u001b[39m(labels)\n\u001b[0;32m    275\u001b[0m label_freqs \u001b[38;5;241m=\u001b[39m np\u001b[38;5;241m.\u001b[39mbincount(labels)\n\u001b[1;32m--> 276\u001b[0m \u001b[43mcheck_number_of_labels\u001b[49m\u001b[43m(\u001b[49m\u001b[38;5;28;43mlen\u001b[39;49m\u001b[43m(\u001b[49m\u001b[43mle\u001b[49m\u001b[38;5;241;43m.\u001b[39;49m\u001b[43mclasses_\u001b[49m\u001b[43m)\u001b[49m\u001b[43m,\u001b[49m\u001b[43m \u001b[49m\u001b[43mn_samples\u001b[49m\u001b[43m)\u001b[49m\n\u001b[0;32m    278\u001b[0m kwds[\u001b[38;5;124m\"\u001b[39m\u001b[38;5;124mmetric\u001b[39m\u001b[38;5;124m\"\u001b[39m] \u001b[38;5;241m=\u001b[39m metric\n\u001b[0;32m    279\u001b[0m reduce_func \u001b[38;5;241m=\u001b[39m functools\u001b[38;5;241m.\u001b[39mpartial(\n\u001b[0;32m    280\u001b[0m     _silhouette_reduce, labels\u001b[38;5;241m=\u001b[39mlabels, label_freqs\u001b[38;5;241m=\u001b[39mlabel_freqs\n\u001b[0;32m    281\u001b[0m )\n",
            "File \u001b[1;32mc:\\Users\\marsh\\anaconda3\\envs\\SYDE522\\lib\\site-packages\\sklearn\\metrics\\cluster\\_unsupervised.py:37\u001b[0m, in \u001b[0;36mcheck_number_of_labels\u001b[1;34m(n_labels, n_samples)\u001b[0m\n\u001b[0;32m     26\u001b[0m \u001b[38;5;250m\u001b[39m\u001b[38;5;124;03m\"\"\"Check that number of labels are valid.\u001b[39;00m\n\u001b[0;32m     27\u001b[0m \n\u001b[0;32m     28\u001b[0m \u001b[38;5;124;03mParameters\u001b[39;00m\n\u001b[1;32m   (...)\u001b[0m\n\u001b[0;32m     34\u001b[0m \u001b[38;5;124;03m    Number of samples.\u001b[39;00m\n\u001b[0;32m     35\u001b[0m \u001b[38;5;124;03m\"\"\"\u001b[39;00m\n\u001b[0;32m     36\u001b[0m \u001b[38;5;28;01mif\u001b[39;00m \u001b[38;5;129;01mnot\u001b[39;00m \u001b[38;5;241m1\u001b[39m \u001b[38;5;241m<\u001b[39m n_labels \u001b[38;5;241m<\u001b[39m n_samples:\n\u001b[1;32m---> 37\u001b[0m     \u001b[38;5;28;01mraise\u001b[39;00m \u001b[38;5;167;01mValueError\u001b[39;00m(\n\u001b[0;32m     38\u001b[0m         \u001b[38;5;124m\"\u001b[39m\u001b[38;5;124mNumber of labels is \u001b[39m\u001b[38;5;132;01m%d\u001b[39;00m\u001b[38;5;124m. Valid values are 2 to n_samples - 1 (inclusive)\u001b[39m\u001b[38;5;124m\"\u001b[39m\n\u001b[0;32m     39\u001b[0m         \u001b[38;5;241m%\u001b[39m n_labels\n\u001b[0;32m     40\u001b[0m     )\n",
            "\u001b[1;31mValueError\u001b[0m: Number of labels is 1. Valid values are 2 to n_samples - 1 (inclusive)"
          ]
        }
      ],
      "source": [
        "\n",
        "\n",
        "# Assuming 'train_features' are the features extracted from the images\n",
        "\n",
        "# Apply DBSCAN\n",
        "dbscan = DBSCAN(eps=0.5, min_samples=5)\n",
        "dbscan_clusters = dbscan.fit_predict(train_features)\n",
        "\n",
        "# The silhouette score can be used to evaluate the quality of the clustering\n",
        "silhouette_avg = silhouette_score(train_features, dbscan_clusters)\n",
        "print(f\"Silhouette Score: {silhouette_avg}\")\n",
        "\n",
        "# DBSCAN labels outliers as -1, so you might want to handle them in your accuracy assessment\n"
      ]
    },
    {
      "cell_type": "markdown",
      "metadata": {
        "id": "3fPfoBsaiCXu"
      },
      "source": [
        " Task 7: PCA for Classification Improvement (20%)\n",
        " Apply PCA on the features and then feed them to the best classification method in the above tasks.\n",
        " Assess if PCA improves outcomes and discuss the results.\n",
        "\n",
        " Insert your code here for Task 7\n",
        "\n",
        "\n"
      ]
    },
    {
      "cell_type": "code",
      "execution_count": null,
      "metadata": {
        "id": "RoOFXhdmiHeD"
      },
      "outputs": [],
      "source": [
        "Data_To_PCA = [[placeholder]]\n",
        "\n",
        "# project from X to K dimensions using PCA\n",
        "k = 2\n",
        "\n",
        "# using sklearn's implementation\n",
        "pca = PCA(k)\n",
        "projected_sklearn = pca.fit_transform(Data_To_PCA.data)\n",
        "print('reduced dim (sklearn):', projected_sklearn.shape)\n",
        "plt.figure(1,figsize = (12,4))\n",
        "\n",
        "plt.scatter(projected_sklearn[:, 0], projected_sklearn[:, 1],\n",
        "            c=Data_To_PCA.target, edgecolor='none', alpha=0.5,\n",
        "            cmap=plt.cm.get_cmap('tab20', 10))\n",
        "plt.xlabel('component 1')\n",
        "plt.ylabel('component 2')\n",
        "plt.title('Dim reduction using PCA (sklearn)')\n",
        "plt.colorbar()\n",
        "\n",
        "\n",
        "[[RUN BEST OTHER MODEL]]"
      ]
    },
    {
      "cell_type": "markdown",
      "metadata": {
        "id": "UQqNra7eiHx-"
      },
      "source": [
        " Task 8: Visualization and Analysis (10%)\n",
        " Plot the features in a lower dimension using dimentinality reduction techniques.\n",
        " Analyze the visual representation, identifying patterns or insights.\n",
        "\n",
        "Insert your code here for Task 8"
      ]
    },
    {
      "cell_type": "code",
      "execution_count": null,
      "metadata": {
        "id": "1npTL_NkjNdL"
      },
      "outputs": [],
      "source": [
        "import umap\n",
        "Data_To_Reduce = [[placeholder]]\n",
        "Labels_For_Reduction = [[placeholder]]\n",
        "mapper = umap.UMAP().fit(Data_To_Reduce)\n",
        "umap.plot.points(mapper,labels=Labels_For_Reduction,theme='fire')\n",
        "\n",
        "\n",
        "umap.plot.output_notebook()\n",
        "hover_data = pd.DataFrame({'index':np.arange(30000),\n",
        "                           'label':Labels_For_Reduction})\n",
        "hover_data['item'] = hover_data.label.map(\n",
        "    {\n",
        "        '0':'Name1',\n",
        "        '1':'Name1',\n",
        "        '2':'Name1',\n",
        "        '3':'Name1',\n",
        "        '4':'Name1',\n",
        "        '5':'Name1',\n",
        "        '6':'Name1',\n",
        "        '7':'Name1',\n",
        "        '8':'Name1',\n",
        "        '9':'Name1',\n",
        "    }\n",
        ")\n",
        "p = umap.plot.interactive(mapper, labels=Labels_For_Reduction, hover_data=hover_data, point_size=2)\n",
        "umap.plot.show(p)"
      ]
    }
  ],
  "metadata": {
    "colab": {
      "provenance": [],
      "gpuType": "T4"
    },
    "kernelspec": {
      "display_name": "Python 3",
      "name": "python3"
    },
    "language_info": {
      "codemirror_mode": {
        "name": "ipython",
        "version": 3
      },
      "file_extension": ".py",
      "mimetype": "text/x-python",
      "name": "python",
      "nbconvert_exporter": "python",
      "pygments_lexer": "ipython3",
      "version": "3.9.18"
    },
    "accelerator": "GPU"
  },
  "nbformat": 4,
  "nbformat_minor": 0
}