{
  "cells": [
    {
      "cell_type": "markdown",
      "metadata": {
        "id": "DgGc4qaTjPrU"
      },
      "source": [
        "Welcome to assignment 1.                                                       \n",
        "\n",
        "We are using pathology images for our first assignment please download data from this link https://drive.google.com/drive/folders/10dUOzcPR-PQwfFYcHk5gsLjIjSorQ32Q?usp=sharing"
      ]
    },
    {
      "cell_type": "markdown",
      "metadata": {
        "id": "4s4K2S-dhTnF"
      },
      "source": [
        "\n",
        "\n",
        "Task 1: Feature Generation (15%)\n",
        "Use and run the following code (a deep network) to generate features from a set of training images. For this assignment, you do not need to know how the deep network is working here to extract features.\n",
        "This code extracts the features of image T4.tif (in the T folder of dataset). Modify the code so that it iterates over all images of the dataset and extracts their features.\n",
        "Allocate 10% of the data for validation.\n",
        "\n",
        "Insert your code here for Task 1\n",
        "\n",
        "\n",
        "\n"
      ]
    },
    {
      "cell_type": "code",
      "execution_count": 1,
      "metadata": {},
      "outputs": [],
      "source": [
        "# import the necessary packages\n",
        "\n",
        "import torch\n",
        "import numpy as np\n",
        "import torchvision.transforms as transforms\n",
        "from torchvision.models import densenet121\n",
        "from torch.autograd import Variable\n",
        "from PIL import Image\n",
        "from sklearn.cluster import DBSCAN\n",
        "from sklearn.metrics import silhouette_score\n",
        "import matplotlib.pyplot as plt\n",
        "from sklearn.cluster import KMeans\n",
        "from sklearn.metrics import accuracy_score\n",
        "from sklearn.model_selection import train_test_split\n",
        "import os\n",
        "\n",
        "# imports for task 2\n",
        "from sklearn.linear_model import LogisticRegression\n",
        "from sklearn import svm\n",
        "from sklearn.model_selection import cross_val_score"
      ]
    },
    {
      "cell_type": "code",
      "execution_count": 2,
      "metadata": {
        "id": "94c_H8Yv7IDs"
      },
      "outputs": [
        {
          "name": "stderr",
          "output_type": "stream",
          "text": [
            "c:\\Users\\marsh\\anaconda3\\envs\\SYDE522\\lib\\site-packages\\torchvision\\models\\_utils.py:208: UserWarning: The parameter 'pretrained' is deprecated since 0.13 and may be removed in the future, please use 'weights' instead.\n",
            "  warnings.warn(\n",
            "c:\\Users\\marsh\\anaconda3\\envs\\SYDE522\\lib\\site-packages\\torchvision\\models\\_utils.py:223: UserWarning: Arguments other than a weight enum or `None` for 'weights' are deprecated since 0.13 and may be removed in the future. The current behavior is equivalent to passing `weights=DenseNet121_Weights.IMAGENET1K_V1`. You can also use `weights=DenseNet121_Weights.DEFAULT` to get the most up-to-date weights.\n",
            "  warnings.warn(msg)\n"
          ]
        },
        {
          "name": "stdout",
          "output_type": "stream",
          "text": [
            "Features and labels for training, testing, and validation sets have been saved.\n"
          ]
        }
      ],
      "source": [
        "# Load the DenseNet model pre-trained on ImageNet\n",
        "model = densenet121(pretrained=True)\n",
        "# Modify the model to remove the last fully connected layer\n",
        "model = torch.nn.Sequential(*list(model.children())[:-1])\n",
        "# Add a global average pooling layer to the model\n",
        "model.add_module(\"global_avg_pool\", torch.nn.AdaptiveAvgPool2d(1))\n",
        "# Set the model to evaluation mode\n",
        "model.eval()\n",
        "\n",
        "# Define a series of transformations for preprocessing the images\n",
        "preprocess = transforms.Compose(\n",
        "    [\n",
        "        transforms.Resize(256),  # Resize the input images to 256x256\n",
        "        transforms.CenterCrop(224),  # Crop the images to 224x224\n",
        "        transforms.ToTensor(),  # Convert the images to PyTorch tensors\n",
        "        transforms.Normalize(\n",
        "            mean=[0.485, 0.456, 0.406], std=[0.229, 0.224, 0.225]\n",
        "        ),  # Normalize the images\n",
        "    ]\n",
        ")\n",
        "\n",
        "# Specify the directory containing the dataset\n",
        "dataset_dir = \"train\"\n",
        "\n",
        "# Initialize lists to hold image paths and their corresponding labels\n",
        "image_paths = []\n",
        "labels = []\n",
        "\n",
        "# Iterate through each folder in the dataset directory\n",
        "for folder_name in os.listdir(dataset_dir):\n",
        "    folder_path = os.path.join(dataset_dir, folder_name)\n",
        "    # Check if the path is a directory\n",
        "    if os.path.isdir(folder_path):\n",
        "        # Iterate through each file in the folder\n",
        "        for file_name in os.listdir(folder_path):\n",
        "            # Check if the file is a TIFF image\n",
        "            if file_name.endswith(\".tif\"):\n",
        "                # Append the image path and label to their respective lists\n",
        "                image_paths.append(os.path.join(folder_path, file_name))\n",
        "                labels.append(folder_name)\n",
        "\n",
        "# Convert categorical labels into numeric labels\n",
        "unique_labels = sorted(set(labels))\n",
        "label_to_numeric = {label: idx for idx, label in enumerate(unique_labels)}\n",
        "labels_numeric = [label_to_numeric[label] for label in labels]\n",
        "\n",
        "# Combine image paths and numeric labels into tuples for easy processing\n",
        "combined = list(zip(image_paths, labels_numeric))\n",
        "\n",
        "# Split the combined dataset into training/validation and testing sets\n",
        "train_test_combined, val_combined = train_test_split(\n",
        "    combined, test_size=0.1, random_state=42\n",
        ")\n",
        "\n",
        "# Further split the training/validation set into separate training and validation sets\n",
        "train_combined, test_combined = train_test_split(\n",
        "    train_test_combined, test_size=0.1, random_state=42\n",
        ")\n",
        "\n",
        "\n",
        "def extract_features_and_labels(combined_data):\n",
        "    \"\"\"\n",
        "    Extract features and labels from the given dataset.\n",
        "\n",
        "    Parameters:\n",
        "    - combined_data: A list of tuples, each containing the path to an image and its numeric label.\n",
        "\n",
        "    Returns:\n",
        "    - A tuple containing two numpy arrays: one for the extracted features and one for the corresponding labels.\n",
        "    \"\"\"\n",
        "    features = []\n",
        "    labels = []\n",
        "    for path, label in combined_data:\n",
        "        # Load the image from the specified path\n",
        "        image = Image.open(path)\n",
        "        # Preprocess the image\n",
        "        input_tensor = preprocess(image)\n",
        "        input_batch = input_tensor.unsqueeze(0)\n",
        "        # Extract features using the model\n",
        "        with torch.no_grad():\n",
        "            output = model(input_batch)\n",
        "        features.append(output.squeeze().detach().numpy())\n",
        "        labels.append(label)\n",
        "    return np.array(features), np.array(labels)\n",
        "\n",
        "\n",
        "# Extract features and labels for training, testing, and validation sets\n",
        "train_features, train_labels = extract_features_and_labels(train_combined)\n",
        "test_features, test_labels = extract_features_and_labels(test_combined)\n",
        "val_features, val_labels = extract_features_and_labels(val_combined)\n",
        "\n",
        "\n",
        "# Save the extracted features and labels to disk\n",
        "np.save(\"train_features.npy\", train_features)\n",
        "np.save(\"test_features.npy\", test_features)\n",
        "np.save(\"val_features.npy\", val_features)\n",
        "np.save(\"train_labels.npy\", train_labels)\n",
        "np.save(\"test_labels.npy\", test_labels)\n",
        "np.save(\"val_labels.npy\", val_labels)\n",
        "\n",
        "print(\"Features and labels for training, testing, and validation sets have been saved.\")\n",
        "\n",
        "# Note on fixing potential warning with updated model loading approach:\n",
        "# Uncomment and use the following code to address deprecation warnings related to loading pretrained models:\n",
        "# from torchvision.models import densenet121, DenseNet121_Weights\n",
        "# model_weights = DenseNet121_Weights.IMAGENET1K_V1  # Alternatively, use DenseNet121_Weights.DEFAULT for the latest weights\n",
        "# model = densenet121(weights=model_weights)\n",
        "# Modify the model similarly as above to prepare for feature extraction\n",
        "# model.eval()"
      ]
    },
    {
      "cell_type": "markdown",
      "metadata": {
        "id": "2DguMbSShmHT"
      },
      "source": [
        " Task 2: High Bias Classification Method (5%)\n",
        " Choose a classification method and let is have a high bias.\n",
        " Train it on the generated features and discuss why it is underfitting.\n",
        "\n",
        " Insert your code here for Task 2\n",
        "\n",
        "\n"
      ]
    },
    {
      "cell_type": "code",
      "execution_count": 3,
      "metadata": {
        "id": "xG7aIh1lhpW3"
      },
      "outputs": [
        {
          "name": "stdout",
          "output_type": "stream",
          "text": [
            "Train accuracy: 0.16164817749603805 \n",
            "Validation Accuracy: 0.10256410256410256\n"
          ]
        }
      ],
      "source": [
        "# Use a multi-class SVM method to classify data choosing intentionally poor values for C to incentivise overgeneralization \n",
        "hb_svm_model = svm.SVC(kernel=\"linear\", C=0.00001)\n",
        "\n",
        "#Fit the model to the training data and score it on the train and validation data for comparison\n",
        "hb_svm_model.fit(train_features,train_labels)\n",
        "hb_svm_train_score = hb_svm_model.score(train_features, train_labels, sample_weight=None)\n",
        "hb_svm_val_score = hb_svm_model.score(val_features, val_labels, sample_weight=None)\n",
        "\n",
        "print('Train accuracy:',hb_svm_train_score,'\\nValidation Accuracy:',hb_svm_val_score)"
      ]
    },
    {
      "cell_type": "markdown",
      "metadata": {},
      "source": [
        "## Discussion"
      ]
    },
    {
      "cell_type": "markdown",
      "metadata": {},
      "source": [
        "We are able to identify that this model has high bias and low variance through its scoring on the train and validation sets. When a model is underfit we expect to see very low skill on both the training and validation sets. This is due to an overall lack of underfitting by the model to solve the problem and can be caused by various issues with the model. Specifically in this instance, with a very low value for C the model searches for an overly wide boundary that classifies most points into a single class. This method is far too simplistic to solve the problem and as such the model is underfit and has a high bias."
      ]
    },
    {
      "cell_type": "markdown",
      "metadata": {
        "id": "kR8MxxoGhpxF"
      },
      "source": [
        " Task 3: High Variance Classification Method (5%)\n",
        " Use the chosen classification method and let it have a high variance.\n",
        " Train it on the generated features and discuss why it is overfitting.\n",
        "\n",
        " Insert your code here for Task 3\n",
        "\n",
        "\n"
      ]
    },
    {
      "cell_type": "code",
      "execution_count": 4,
      "metadata": {
        "id": "TrsSDN_7huYB"
      },
      "outputs": [
        {
          "name": "stdout",
          "output_type": "stream",
          "text": [
            "Train accuracy: 1.0 \n",
            "Validation Accuracy: 0.5\n"
          ]
        }
      ],
      "source": [
        "# Use a multi-class SVM method to classify data choosing intentionally poor values for C and gamma to incentivise overfitting \n",
        "hb_svm_model = svm.SVC(kernel=\"rbf\", C=1000000, gamma=0.04)\n",
        "\n",
        "#Fit the model to the training data and score it on the train and validation data for comparison\n",
        "hb_svm_model.fit(train_features,train_labels)\n",
        "hb_svm_train_score = hb_svm_model.score(train_features, train_labels, sample_weight=None)\n",
        "hb_svm_val_score = hb_svm_model.score(val_features, val_labels, sample_weight=None)\n",
        "\n",
        "print('Train accuracy:',hb_svm_train_score,'\\nValidation Accuracy:',hb_svm_val_score)"
      ]
    },
    {
      "cell_type": "markdown",
      "metadata": {},
      "source": [
        "## Discussion"
      ]
    },
    {
      "cell_type": "markdown",
      "metadata": {},
      "source": [
        "We are able to identify that this model has high variance and low bias though the scoring on train and validation sets as before. When a model is overfit we expect to see high training skill and low validation skill as we see above. In order to produce a model that overfits setting parameters that incentivise large changes when new datapoints are added is very likely to lead to overfitting. In order to do this we use a very high C and a low gamma to create a thin decision boundary between classes that is fit exactly to the training data such that if a new point outside of the training is added the training process would alter the seperating hyperplane substantially. This results in a hyperplane that is wrapped around the training points and has a very thin margin that does not accept improperly seperated data in the training set and reduces ability to generalize the model."
      ]
    },
    {
      "cell_type": "markdown",
      "metadata": {
        "id": "yzxSVPWXht-m"
      },
      "source": [
        " Task 4: Balanced Classification Method (15%)\n",
        " Use the chosen classification method and let it balance the bias and variance.\n",
        " Train it on the generated features, possibly adjusting parameters.\n",
        " Discuss insights into achieving balance.\n",
        "\n",
        " Insert your code here for Task 4\n",
        "\n",
        "\n"
      ]
    },
    {
      "cell_type": "code",
      "execution_count": 5,
      "metadata": {
        "id": "hjgmSxk7h7vZ"
      },
      "outputs": [
        {
          "name": "stdout",
          "output_type": "stream",
          "text": [
            "Best kernel is: poly\n",
            "Best gamma is: 0.03162277660168379\n",
            "Best C is: 0.0005623413251903491\n",
            "Best score is: 0.9646881287726359\n"
          ]
        }
      ],
      "source": [
        "from sklearn.model_selection import GridSearchCV, StratifiedShuffleSplit\n",
        "\n",
        "#In order to indentify the best parameters for our SVM to balance variance and bias we will use a rudementary grid search to identify the optimal hyperparemeters for SVC\n",
        "kernel_types = ['linear', 'poly', 'rbf', 'sigmoid']\n",
        "C_range = np.logspace(-5, 2, 5)\n",
        "gamma_range = np.logspace(-5, 2, 5)\n",
        "param_grid = dict(gamma=gamma_range, C=C_range)\n",
        "\n",
        "#We preform K-fold cross validation alongside this hyperparameter tuning to ensure we do not overfit the model to one set of validation data\n",
        "cv = StratifiedShuffleSplit(n_splits=5, test_size=0.2, random_state=42)\n",
        "\n",
        "#As we will be preforming K-fold validation the split of data in part one is not needed due to the splitting in the process of K-fold validation so we recombine the data\n",
        "not_test_features = np.concatenate((train_features,val_features))\n",
        "not_test_labels = np.concatenate((train_labels,val_labels))\n",
        "\n",
        "#Here we preform the grid search by looping through each combination of features and maintaining the features with the highest skill overall measured via accuracy\n",
        "#Accuracy is chosen as our metric as without any information about what the data classes represent it provides a general and easy to interperit evaluation of skill\n",
        "best_score = 0\n",
        "for kernel in kernel_types:\n",
        "    for c in C_range:\n",
        "        for g in gamma_range:\n",
        "\n",
        "            #Here we create and evaluate each model being sure to take the mean preformance of all K-folds to reduce bias introduced if we took the best fold performance\n",
        "            test_svm_model = svm.SVC(kernel=kernel, C=c, gamma=g) \n",
        "            hv_svm_scores = np.mean(cross_val_score(test_svm_model, not_test_features, not_test_labels, cv=10)) # 10 is chosen here as it is industry standard\n",
        "\n",
        "            #If the combination of hyperparameters produces the strongest model remember its parameters\n",
        "            if hv_svm_scores > best_score:\n",
        "                best_score = hv_svm_scores\n",
        "                best_kernel = kernel\n",
        "                best_gamma = g\n",
        "                best_c = c\n",
        "\n",
        "#Reporting the optimum conditions for SVC on our dataset and saving it to a model for future usage\n",
        "                \n",
        "best_svm_model = svm.SVC(kernel=best_kernel, C=best_c, gamma=best_gamma)\n",
        "print('Best kernel is:',best_kernel)\n",
        "print('Best gamma is:',best_gamma)\n",
        "print('Best C is:',best_c)\n",
        "print('Best score is:',best_score)"
      ]
    },
    {
      "cell_type": "markdown",
      "metadata": {},
      "source": [
        "## Discussion"
      ]
    },
    {
      "cell_type": "markdown",
      "metadata": {},
      "source": [
        "When working to identify the optimum parameters there are a wide range of approaches one could take when trying to tune their model hyperparameters. Since we have a relativly simple model running with short runtime we are able to take advantage of brute force methodologies to tune our hyperparameters properly. If this dataset were instead much larger and our model much more complex we would instead decide between creating a tuning model to learn the best hyperparemeter state for our problem, or manual iteration of parameters sourced from literature for the model type. The second method is reliant on an understanding of the data that we lack for this project as the initial data and preprocessing of the data are both done before our intervention. Overall finding that a polynomial kernal is optimum for our problem tells us that our data is non-linear and as such we should avoid using a comparison of linear methods in the future or implement dimensionality reduction techniques in order to simplify the space. We find that a small value for both gamma and C is optimal showing that if we are able to kernalize the data effectivly the data becomes simply seperable if outliers can be ignored over the boundary."
      ]
    },
    {
      "cell_type": "markdown",
      "metadata": {
        "id": "ZKRG3PfFh8Ot"
      },
      "source": [
        " Task 5: K-Means Clustering (20%)\n",
        " Apply K-Means clustering on the generated features.\n",
        " Test with available labels and report accuracy.\n",
        " Experiment with automated K and compare with manually set 20 clusters.\n",
        "\n",
        " Insert your code here for Task 5\n",
        "\n",
        "\n"
      ]
    },
    {
      "cell_type": "code",
      "execution_count": 29,
      "metadata": {
        "id": "VLuOkJyAh-mN"
      },
      "outputs": [
        {
          "name": "stderr",
          "output_type": "stream",
          "text": [
            "c:\\Users\\marsh\\anaconda3\\envs\\SYDE522\\lib\\site-packages\\sklearn\\cluster\\_kmeans.py:1440: UserWarning: KMeans is known to have a memory leak on Windows with MKL, when there are less chunks than available threads. You can avoid it by setting the environment variable OMP_NUM_THREADS=4.\n",
            "  warnings.warn(\n",
            "c:\\Users\\marsh\\anaconda3\\envs\\SYDE522\\lib\\site-packages\\sklearn\\cluster\\_kmeans.py:1440: UserWarning: KMeans is known to have a memory leak on Windows with MKL, when there are less chunks than available threads. You can avoid it by setting the environment variable OMP_NUM_THREADS=4.\n",
            "  warnings.warn(\n",
            "c:\\Users\\marsh\\anaconda3\\envs\\SYDE522\\lib\\site-packages\\sklearn\\cluster\\_kmeans.py:1440: UserWarning: KMeans is known to have a memory leak on Windows with MKL, when there are less chunks than available threads. You can avoid it by setting the environment variable OMP_NUM_THREADS=4.\n",
            "  warnings.warn(\n"
          ]
        },
        {
          "name": "stdout",
          "output_type": "stream",
          "text": [
            "k = 2: Custom Accuracy = 0.1\n",
            "k = 3: Custom Accuracy = 0.15\n",
            "k = 4: Custom Accuracy = 0.2\n"
          ]
        },
        {
          "name": "stderr",
          "output_type": "stream",
          "text": [
            "c:\\Users\\marsh\\anaconda3\\envs\\SYDE522\\lib\\site-packages\\sklearn\\cluster\\_kmeans.py:1440: UserWarning: KMeans is known to have a memory leak on Windows with MKL, when there are less chunks than available threads. You can avoid it by setting the environment variable OMP_NUM_THREADS=4.\n",
            "  warnings.warn(\n",
            "c:\\Users\\marsh\\anaconda3\\envs\\SYDE522\\lib\\site-packages\\sklearn\\cluster\\_kmeans.py:1440: UserWarning: KMeans is known to have a memory leak on Windows with MKL, when there are less chunks than available threads. You can avoid it by setting the environment variable OMP_NUM_THREADS=4.\n",
            "  warnings.warn(\n"
          ]
        },
        {
          "name": "stdout",
          "output_type": "stream",
          "text": [
            "k = 5: Custom Accuracy = 0.25\n",
            "k = 6: Custom Accuracy = 0.3\n",
            "k = 7: Custom Accuracy = 0.3487179487179487\n"
          ]
        },
        {
          "name": "stderr",
          "output_type": "stream",
          "text": [
            "c:\\Users\\marsh\\anaconda3\\envs\\SYDE522\\lib\\site-packages\\sklearn\\cluster\\_kmeans.py:1440: UserWarning: KMeans is known to have a memory leak on Windows with MKL, when there are less chunks than available threads. You can avoid it by setting the environment variable OMP_NUM_THREADS=4.\n",
            "  warnings.warn(\n",
            "c:\\Users\\marsh\\anaconda3\\envs\\SYDE522\\lib\\site-packages\\sklearn\\cluster\\_kmeans.py:1440: UserWarning: KMeans is known to have a memory leak on Windows with MKL, when there are less chunks than available threads. You can avoid it by setting the environment variable OMP_NUM_THREADS=4.\n",
            "  warnings.warn(\n"
          ]
        },
        {
          "name": "stdout",
          "output_type": "stream",
          "text": [
            "k = 8: Custom Accuracy = 0.39871794871794874\n",
            "k = 9: Custom Accuracy = 0.44487179487179485\n"
          ]
        },
        {
          "name": "stderr",
          "output_type": "stream",
          "text": [
            "c:\\Users\\marsh\\anaconda3\\envs\\SYDE522\\lib\\site-packages\\sklearn\\cluster\\_kmeans.py:1440: UserWarning: KMeans is known to have a memory leak on Windows with MKL, when there are less chunks than available threads. You can avoid it by setting the environment variable OMP_NUM_THREADS=4.\n",
            "  warnings.warn(\n",
            "c:\\Users\\marsh\\anaconda3\\envs\\SYDE522\\lib\\site-packages\\sklearn\\cluster\\_kmeans.py:1440: UserWarning: KMeans is known to have a memory leak on Windows with MKL, when there are less chunks than available threads. You can avoid it by setting the environment variable OMP_NUM_THREADS=4.\n",
            "  warnings.warn(\n"
          ]
        },
        {
          "name": "stdout",
          "output_type": "stream",
          "text": [
            "k = 10: Custom Accuracy = 0.49615384615384617\n",
            "k = 11: Custom Accuracy = 0.5333333333333333\n"
          ]
        },
        {
          "name": "stderr",
          "output_type": "stream",
          "text": [
            "c:\\Users\\marsh\\anaconda3\\envs\\SYDE522\\lib\\site-packages\\sklearn\\cluster\\_kmeans.py:1440: UserWarning: KMeans is known to have a memory leak on Windows with MKL, when there are less chunks than available threads. You can avoid it by setting the environment variable OMP_NUM_THREADS=4.\n",
            "  warnings.warn(\n",
            "c:\\Users\\marsh\\anaconda3\\envs\\SYDE522\\lib\\site-packages\\sklearn\\cluster\\_kmeans.py:1440: UserWarning: KMeans is known to have a memory leak on Windows with MKL, when there are less chunks than available threads. You can avoid it by setting the environment variable OMP_NUM_THREADS=4.\n",
            "  warnings.warn(\n"
          ]
        },
        {
          "name": "stdout",
          "output_type": "stream",
          "text": [
            "k = 12: Custom Accuracy = 0.5756410256410256\n"
          ]
        },
        {
          "name": "stderr",
          "output_type": "stream",
          "text": [
            "c:\\Users\\marsh\\anaconda3\\envs\\SYDE522\\lib\\site-packages\\sklearn\\cluster\\_kmeans.py:1440: UserWarning: KMeans is known to have a memory leak on Windows with MKL, when there are less chunks than available threads. You can avoid it by setting the environment variable OMP_NUM_THREADS=4.\n",
            "  warnings.warn(\n"
          ]
        },
        {
          "name": "stdout",
          "output_type": "stream",
          "text": [
            "k = 13: Custom Accuracy = 0.6217948717948718\n"
          ]
        },
        {
          "name": "stderr",
          "output_type": "stream",
          "text": [
            "c:\\Users\\marsh\\anaconda3\\envs\\SYDE522\\lib\\site-packages\\sklearn\\cluster\\_kmeans.py:1440: UserWarning: KMeans is known to have a memory leak on Windows with MKL, when there are less chunks than available threads. You can avoid it by setting the environment variable OMP_NUM_THREADS=4.\n",
            "  warnings.warn(\n"
          ]
        },
        {
          "name": "stdout",
          "output_type": "stream",
          "text": [
            "k = 14: Custom Accuracy = 0.6666666666666666\n"
          ]
        },
        {
          "name": "stderr",
          "output_type": "stream",
          "text": [
            "c:\\Users\\marsh\\anaconda3\\envs\\SYDE522\\lib\\site-packages\\sklearn\\cluster\\_kmeans.py:1440: UserWarning: KMeans is known to have a memory leak on Windows with MKL, when there are less chunks than available threads. You can avoid it by setting the environment variable OMP_NUM_THREADS=4.\n",
            "  warnings.warn(\n"
          ]
        },
        {
          "name": "stdout",
          "output_type": "stream",
          "text": [
            "k = 15: Custom Accuracy = 0.7051282051282052\n"
          ]
        },
        {
          "name": "stderr",
          "output_type": "stream",
          "text": [
            "c:\\Users\\marsh\\anaconda3\\envs\\SYDE522\\lib\\site-packages\\sklearn\\cluster\\_kmeans.py:1440: UserWarning: KMeans is known to have a memory leak on Windows with MKL, when there are less chunks than available threads. You can avoid it by setting the environment variable OMP_NUM_THREADS=4.\n",
            "  warnings.warn(\n"
          ]
        },
        {
          "name": "stdout",
          "output_type": "stream",
          "text": [
            "k = 16: Custom Accuracy = 0.7230769230769231\n"
          ]
        },
        {
          "name": "stderr",
          "output_type": "stream",
          "text": [
            "c:\\Users\\marsh\\anaconda3\\envs\\SYDE522\\lib\\site-packages\\sklearn\\cluster\\_kmeans.py:1440: UserWarning: KMeans is known to have a memory leak on Windows with MKL, when there are less chunks than available threads. You can avoid it by setting the environment variable OMP_NUM_THREADS=4.\n",
            "  warnings.warn(\n"
          ]
        },
        {
          "name": "stdout",
          "output_type": "stream",
          "text": [
            "k = 17: Custom Accuracy = 0.767948717948718\n"
          ]
        },
        {
          "name": "stderr",
          "output_type": "stream",
          "text": [
            "c:\\Users\\marsh\\anaconda3\\envs\\SYDE522\\lib\\site-packages\\sklearn\\cluster\\_kmeans.py:1440: UserWarning: KMeans is known to have a memory leak on Windows with MKL, when there are less chunks than available threads. You can avoid it by setting the environment variable OMP_NUM_THREADS=4.\n",
            "  warnings.warn(\n"
          ]
        },
        {
          "name": "stdout",
          "output_type": "stream",
          "text": [
            "k = 18: Custom Accuracy = 0.767948717948718\n"
          ]
        },
        {
          "name": "stderr",
          "output_type": "stream",
          "text": [
            "c:\\Users\\marsh\\anaconda3\\envs\\SYDE522\\lib\\site-packages\\sklearn\\cluster\\_kmeans.py:1440: UserWarning: KMeans is known to have a memory leak on Windows with MKL, when there are less chunks than available threads. You can avoid it by setting the environment variable OMP_NUM_THREADS=4.\n",
            "  warnings.warn(\n"
          ]
        },
        {
          "name": "stdout",
          "output_type": "stream",
          "text": [
            "k = 19: Custom Accuracy = 0.7666666666666667\n",
            "Best custom accuracy: 0.767948717948718 found for k = 17\n"
          ]
        },
        {
          "name": "stderr",
          "output_type": "stream",
          "text": [
            "c:\\Users\\marsh\\anaconda3\\envs\\SYDE522\\lib\\site-packages\\sklearn\\cluster\\_kmeans.py:1440: UserWarning: KMeans is known to have a memory leak on Windows with MKL, when there are less chunks than available threads. You can avoid it by setting the environment variable OMP_NUM_THREADS=4.\n",
            "  warnings.warn(\n"
          ]
        },
        {
          "name": "stdout",
          "output_type": "stream",
          "text": [
            "Custom Accuracy with k = 20: 0.8102564102564103\n",
            "============================================================================================\n",
            "Experimenting with different K values using silhouette_score to find accuracy:\n",
            "For K=2, the average silhouette_score is: 0.1655828207731247\n"
          ]
        },
        {
          "name": "stderr",
          "output_type": "stream",
          "text": [
            "c:\\Users\\marsh\\anaconda3\\envs\\SYDE522\\lib\\site-packages\\sklearn\\cluster\\_kmeans.py:1440: UserWarning: KMeans is known to have a memory leak on Windows with MKL, when there are less chunks than available threads. You can avoid it by setting the environment variable OMP_NUM_THREADS=4.\n",
            "  warnings.warn(\n",
            "c:\\Users\\marsh\\anaconda3\\envs\\SYDE522\\lib\\site-packages\\sklearn\\cluster\\_kmeans.py:1440: UserWarning: KMeans is known to have a memory leak on Windows with MKL, when there are less chunks than available threads. You can avoid it by setting the environment variable OMP_NUM_THREADS=4.\n",
            "  warnings.warn(\n"
          ]
        },
        {
          "name": "stdout",
          "output_type": "stream",
          "text": [
            "For K=3, the average silhouette_score is: 0.16379152238368988\n"
          ]
        },
        {
          "name": "stderr",
          "output_type": "stream",
          "text": [
            "c:\\Users\\marsh\\anaconda3\\envs\\SYDE522\\lib\\site-packages\\sklearn\\cluster\\_kmeans.py:1440: UserWarning: KMeans is known to have a memory leak on Windows with MKL, when there are less chunks than available threads. You can avoid it by setting the environment variable OMP_NUM_THREADS=4.\n",
            "  warnings.warn(\n"
          ]
        },
        {
          "name": "stdout",
          "output_type": "stream",
          "text": [
            "For K=4, the average silhouette_score is: 0.16506771743297577\n",
            "For K=5, the average silhouette_score is: 0.15045128762722015\n"
          ]
        },
        {
          "name": "stderr",
          "output_type": "stream",
          "text": [
            "c:\\Users\\marsh\\anaconda3\\envs\\SYDE522\\lib\\site-packages\\sklearn\\cluster\\_kmeans.py:1440: UserWarning: KMeans is known to have a memory leak on Windows with MKL, when there are less chunks than available threads. You can avoid it by setting the environment variable OMP_NUM_THREADS=4.\n",
            "  warnings.warn(\n",
            "c:\\Users\\marsh\\anaconda3\\envs\\SYDE522\\lib\\site-packages\\sklearn\\cluster\\_kmeans.py:1440: UserWarning: KMeans is known to have a memory leak on Windows with MKL, when there are less chunks than available threads. You can avoid it by setting the environment variable OMP_NUM_THREADS=4.\n",
            "  warnings.warn(\n"
          ]
        },
        {
          "name": "stdout",
          "output_type": "stream",
          "text": [
            "For K=6, the average silhouette_score is: 0.1782476156949997\n"
          ]
        },
        {
          "name": "stderr",
          "output_type": "stream",
          "text": [
            "c:\\Users\\marsh\\anaconda3\\envs\\SYDE522\\lib\\site-packages\\sklearn\\cluster\\_kmeans.py:1440: UserWarning: KMeans is known to have a memory leak on Windows with MKL, when there are less chunks than available threads. You can avoid it by setting the environment variable OMP_NUM_THREADS=4.\n",
            "  warnings.warn(\n"
          ]
        },
        {
          "name": "stdout",
          "output_type": "stream",
          "text": [
            "For K=7, the average silhouette_score is: 0.1846548616886139\n"
          ]
        },
        {
          "name": "stderr",
          "output_type": "stream",
          "text": [
            "c:\\Users\\marsh\\anaconda3\\envs\\SYDE522\\lib\\site-packages\\sklearn\\cluster\\_kmeans.py:1440: UserWarning: KMeans is known to have a memory leak on Windows with MKL, when there are less chunks than available threads. You can avoid it by setting the environment variable OMP_NUM_THREADS=4.\n",
            "  warnings.warn(\n"
          ]
        },
        {
          "name": "stdout",
          "output_type": "stream",
          "text": [
            "For K=8, the average silhouette_score is: 0.19653333723545074\n"
          ]
        },
        {
          "name": "stderr",
          "output_type": "stream",
          "text": [
            "c:\\Users\\marsh\\anaconda3\\envs\\SYDE522\\lib\\site-packages\\sklearn\\cluster\\_kmeans.py:1440: UserWarning: KMeans is known to have a memory leak on Windows with MKL, when there are less chunks than available threads. You can avoid it by setting the environment variable OMP_NUM_THREADS=4.\n",
            "  warnings.warn(\n"
          ]
        },
        {
          "name": "stdout",
          "output_type": "stream",
          "text": [
            "For K=9, the average silhouette_score is: 0.19478857517242432\n"
          ]
        },
        {
          "name": "stderr",
          "output_type": "stream",
          "text": [
            "c:\\Users\\marsh\\anaconda3\\envs\\SYDE522\\lib\\site-packages\\sklearn\\cluster\\_kmeans.py:1440: UserWarning: KMeans is known to have a memory leak on Windows with MKL, when there are less chunks than available threads. You can avoid it by setting the environment variable OMP_NUM_THREADS=4.\n",
            "  warnings.warn(\n"
          ]
        },
        {
          "name": "stdout",
          "output_type": "stream",
          "text": [
            "For K=10, the average silhouette_score is: 0.17631788551807404\n"
          ]
        },
        {
          "name": "stderr",
          "output_type": "stream",
          "text": [
            "c:\\Users\\marsh\\anaconda3\\envs\\SYDE522\\lib\\site-packages\\sklearn\\cluster\\_kmeans.py:1440: UserWarning: KMeans is known to have a memory leak on Windows with MKL, when there are less chunks than available threads. You can avoid it by setting the environment variable OMP_NUM_THREADS=4.\n",
            "  warnings.warn(\n"
          ]
        },
        {
          "name": "stdout",
          "output_type": "stream",
          "text": [
            "For K=11, the average silhouette_score is: 0.1803320050239563\n"
          ]
        },
        {
          "name": "stderr",
          "output_type": "stream",
          "text": [
            "c:\\Users\\marsh\\anaconda3\\envs\\SYDE522\\lib\\site-packages\\sklearn\\cluster\\_kmeans.py:1440: UserWarning: KMeans is known to have a memory leak on Windows with MKL, when there are less chunks than available threads. You can avoid it by setting the environment variable OMP_NUM_THREADS=4.\n",
            "  warnings.warn(\n"
          ]
        },
        {
          "name": "stdout",
          "output_type": "stream",
          "text": [
            "For K=12, the average silhouette_score is: 0.19013243913650513\n"
          ]
        },
        {
          "name": "stderr",
          "output_type": "stream",
          "text": [
            "c:\\Users\\marsh\\anaconda3\\envs\\SYDE522\\lib\\site-packages\\sklearn\\cluster\\_kmeans.py:1440: UserWarning: KMeans is known to have a memory leak on Windows with MKL, when there are less chunks than available threads. You can avoid it by setting the environment variable OMP_NUM_THREADS=4.\n",
            "  warnings.warn(\n"
          ]
        },
        {
          "name": "stdout",
          "output_type": "stream",
          "text": [
            "For K=13, the average silhouette_score is: 0.201798677444458\n"
          ]
        },
        {
          "name": "stderr",
          "output_type": "stream",
          "text": [
            "c:\\Users\\marsh\\anaconda3\\envs\\SYDE522\\lib\\site-packages\\sklearn\\cluster\\_kmeans.py:1440: UserWarning: KMeans is known to have a memory leak on Windows with MKL, when there are less chunks than available threads. You can avoid it by setting the environment variable OMP_NUM_THREADS=4.\n",
            "  warnings.warn(\n"
          ]
        },
        {
          "name": "stdout",
          "output_type": "stream",
          "text": [
            "For K=14, the average silhouette_score is: 0.1934637576341629\n"
          ]
        },
        {
          "name": "stderr",
          "output_type": "stream",
          "text": [
            "c:\\Users\\marsh\\anaconda3\\envs\\SYDE522\\lib\\site-packages\\sklearn\\cluster\\_kmeans.py:1440: UserWarning: KMeans is known to have a memory leak on Windows with MKL, when there are less chunks than available threads. You can avoid it by setting the environment variable OMP_NUM_THREADS=4.\n",
            "  warnings.warn(\n"
          ]
        },
        {
          "name": "stdout",
          "output_type": "stream",
          "text": [
            "For K=15, the average silhouette_score is: 0.19786952435970306\n"
          ]
        },
        {
          "name": "stderr",
          "output_type": "stream",
          "text": [
            "c:\\Users\\marsh\\anaconda3\\envs\\SYDE522\\lib\\site-packages\\sklearn\\cluster\\_kmeans.py:1440: UserWarning: KMeans is known to have a memory leak on Windows with MKL, when there are less chunks than available threads. You can avoid it by setting the environment variable OMP_NUM_THREADS=4.\n",
            "  warnings.warn(\n"
          ]
        },
        {
          "name": "stdout",
          "output_type": "stream",
          "text": [
            "For K=16, the average silhouette_score is: 0.18603871762752533\n"
          ]
        },
        {
          "name": "stderr",
          "output_type": "stream",
          "text": [
            "c:\\Users\\marsh\\anaconda3\\envs\\SYDE522\\lib\\site-packages\\sklearn\\cluster\\_kmeans.py:1440: UserWarning: KMeans is known to have a memory leak on Windows with MKL, when there are less chunks than available threads. You can avoid it by setting the environment variable OMP_NUM_THREADS=4.\n",
            "  warnings.warn(\n"
          ]
        },
        {
          "name": "stdout",
          "output_type": "stream",
          "text": [
            "For K=17, the average silhouette_score is: 0.1868315488100052\n"
          ]
        },
        {
          "name": "stderr",
          "output_type": "stream",
          "text": [
            "c:\\Users\\marsh\\anaconda3\\envs\\SYDE522\\lib\\site-packages\\sklearn\\cluster\\_kmeans.py:1440: UserWarning: KMeans is known to have a memory leak on Windows with MKL, when there are less chunks than available threads. You can avoid it by setting the environment variable OMP_NUM_THREADS=4.\n",
            "  warnings.warn(\n"
          ]
        },
        {
          "name": "stdout",
          "output_type": "stream",
          "text": [
            "For K=18, the average silhouette_score is: 0.17968419194221497\n"
          ]
        },
        {
          "name": "stderr",
          "output_type": "stream",
          "text": [
            "c:\\Users\\marsh\\anaconda3\\envs\\SYDE522\\lib\\site-packages\\sklearn\\cluster\\_kmeans.py:1440: UserWarning: KMeans is known to have a memory leak on Windows with MKL, when there are less chunks than available threads. You can avoid it by setting the environment variable OMP_NUM_THREADS=4.\n",
            "  warnings.warn(\n"
          ]
        },
        {
          "name": "stdout",
          "output_type": "stream",
          "text": [
            "For K=19, the average silhouette_score is: 0.18129374086856842\n"
          ]
        },
        {
          "name": "stderr",
          "output_type": "stream",
          "text": [
            "c:\\Users\\marsh\\anaconda3\\envs\\SYDE522\\lib\\site-packages\\sklearn\\cluster\\_kmeans.py:1440: UserWarning: KMeans is known to have a memory leak on Windows with MKL, when there are less chunks than available threads. You can avoid it by setting the environment variable OMP_NUM_THREADS=4.\n",
            "  warnings.warn(\n"
          ]
        },
        {
          "name": "stdout",
          "output_type": "stream",
          "text": [
            "For K=20, the average silhouette_score is: 0.18492791056632996\n"
          ]
        },
        {
          "name": "stderr",
          "output_type": "stream",
          "text": [
            "c:\\Users\\marsh\\anaconda3\\envs\\SYDE522\\lib\\site-packages\\sklearn\\cluster\\_kmeans.py:1440: UserWarning: KMeans is known to have a memory leak on Windows with MKL, when there are less chunks than available threads. You can avoid it by setting the environment variable OMP_NUM_THREADS=4.\n",
            "  warnings.warn(\n"
          ]
        },
        {
          "name": "stdout",
          "output_type": "stream",
          "text": [
            "For K=21, the average silhouette_score is: 0.17757786810398102\n"
          ]
        },
        {
          "name": "stderr",
          "output_type": "stream",
          "text": [
            "c:\\Users\\marsh\\anaconda3\\envs\\SYDE522\\lib\\site-packages\\sklearn\\cluster\\_kmeans.py:1440: UserWarning: KMeans is known to have a memory leak on Windows with MKL, when there are less chunks than available threads. You can avoid it by setting the environment variable OMP_NUM_THREADS=4.\n",
            "  warnings.warn(\n"
          ]
        },
        {
          "name": "stdout",
          "output_type": "stream",
          "text": [
            "For K=22, the average silhouette_score is: 0.17826585471630096\n"
          ]
        },
        {
          "name": "stderr",
          "output_type": "stream",
          "text": [
            "c:\\Users\\marsh\\anaconda3\\envs\\SYDE522\\lib\\site-packages\\sklearn\\cluster\\_kmeans.py:1440: UserWarning: KMeans is known to have a memory leak on Windows with MKL, when there are less chunks than available threads. You can avoid it by setting the environment variable OMP_NUM_THREADS=4.\n",
            "  warnings.warn(\n"
          ]
        },
        {
          "name": "stdout",
          "output_type": "stream",
          "text": [
            "For K=23, the average silhouette_score is: 0.17662177979946136\n"
          ]
        },
        {
          "name": "stderr",
          "output_type": "stream",
          "text": [
            "c:\\Users\\marsh\\anaconda3\\envs\\SYDE522\\lib\\site-packages\\sklearn\\cluster\\_kmeans.py:1440: UserWarning: KMeans is known to have a memory leak on Windows with MKL, when there are less chunks than available threads. You can avoid it by setting the environment variable OMP_NUM_THREADS=4.\n",
            "  warnings.warn(\n"
          ]
        },
        {
          "name": "stdout",
          "output_type": "stream",
          "text": [
            "For K=24, the average silhouette_score is: 0.1758357584476471\n"
          ]
        },
        {
          "name": "stderr",
          "output_type": "stream",
          "text": [
            "c:\\Users\\marsh\\anaconda3\\envs\\SYDE522\\lib\\site-packages\\sklearn\\cluster\\_kmeans.py:1440: UserWarning: KMeans is known to have a memory leak on Windows with MKL, when there are less chunks than available threads. You can avoid it by setting the environment variable OMP_NUM_THREADS=4.\n",
            "  warnings.warn(\n"
          ]
        },
        {
          "name": "stdout",
          "output_type": "stream",
          "text": [
            "For K=25, the average silhouette_score is: 0.17666931450366974\n"
          ]
        },
        {
          "name": "stderr",
          "output_type": "stream",
          "text": [
            "c:\\Users\\marsh\\anaconda3\\envs\\SYDE522\\lib\\site-packages\\sklearn\\cluster\\_kmeans.py:1440: UserWarning: KMeans is known to have a memory leak on Windows with MKL, when there are less chunks than available threads. You can avoid it by setting the environment variable OMP_NUM_THREADS=4.\n",
            "  warnings.warn(\n"
          ]
        },
        {
          "name": "stdout",
          "output_type": "stream",
          "text": [
            "For K=26, the average silhouette_score is: 0.16916042566299438\n"
          ]
        },
        {
          "name": "stderr",
          "output_type": "stream",
          "text": [
            "c:\\Users\\marsh\\anaconda3\\envs\\SYDE522\\lib\\site-packages\\sklearn\\cluster\\_kmeans.py:1440: UserWarning: KMeans is known to have a memory leak on Windows with MKL, when there are less chunks than available threads. You can avoid it by setting the environment variable OMP_NUM_THREADS=4.\n",
            "  warnings.warn(\n"
          ]
        },
        {
          "name": "stdout",
          "output_type": "stream",
          "text": [
            "For K=27, the average silhouette_score is: 0.16719813644886017\n"
          ]
        },
        {
          "name": "stderr",
          "output_type": "stream",
          "text": [
            "c:\\Users\\marsh\\anaconda3\\envs\\SYDE522\\lib\\site-packages\\sklearn\\cluster\\_kmeans.py:1440: UserWarning: KMeans is known to have a memory leak on Windows with MKL, when there are less chunks than available threads. You can avoid it by setting the environment variable OMP_NUM_THREADS=4.\n",
            "  warnings.warn(\n"
          ]
        },
        {
          "name": "stdout",
          "output_type": "stream",
          "text": [
            "For K=28, the average silhouette_score is: 0.155101016163826\n"
          ]
        },
        {
          "name": "stderr",
          "output_type": "stream",
          "text": [
            "c:\\Users\\marsh\\anaconda3\\envs\\SYDE522\\lib\\site-packages\\sklearn\\cluster\\_kmeans.py:1440: UserWarning: KMeans is known to have a memory leak on Windows with MKL, when there are less chunks than available threads. You can avoid it by setting the environment variable OMP_NUM_THREADS=4.\n",
            "  warnings.warn(\n"
          ]
        },
        {
          "name": "stdout",
          "output_type": "stream",
          "text": [
            "For K=29, the average silhouette_score is: 0.15571744740009308\n"
          ]
        },
        {
          "name": "stderr",
          "output_type": "stream",
          "text": [
            "c:\\Users\\marsh\\anaconda3\\envs\\SYDE522\\lib\\site-packages\\sklearn\\cluster\\_kmeans.py:1440: UserWarning: KMeans is known to have a memory leak on Windows with MKL, when there are less chunks than available threads. You can avoid it by setting the environment variable OMP_NUM_THREADS=4.\n",
            "  warnings.warn(\n"
          ]
        },
        {
          "name": "stdout",
          "output_type": "stream",
          "text": [
            "For K=30, the average silhouette_score is: 0.15012657642364502\n",
            "The best K is 13 with an average silhouette score of 0.201798677444458.\n"
          ]
        },
        {
          "name": "stderr",
          "output_type": "stream",
          "text": [
            "c:\\Users\\marsh\\anaconda3\\envs\\SYDE522\\lib\\site-packages\\sklearn\\cluster\\_kmeans.py:1440: UserWarning: KMeans is known to have a memory leak on Windows with MKL, when there are less chunks than available threads. You can avoid it by setting the environment variable OMP_NUM_THREADS=4.\n",
            "  warnings.warn(\n"
          ]
        },
        {
          "name": "stdout",
          "output_type": "stream",
          "text": [
            "Custom Accuracy with best silhouette score (k = 13): 0.6217948717948718\n"
          ]
        }
      ],
      "source": [
        "from sklearn.cluster import KMeans\n",
        "from sklearn.metrics import silhouette_score, accuracy_score\n",
        "import numpy as np\n",
        "from collections import Counter\n",
        "\n",
        "# Load features and labels from Numpy files.\n",
        "train_features = np.load(\"train_features.npy\")\n",
        "train_labels = np.load(\"train_labels.npy\")\n",
        "val_features = np.load(\"val_features.npy\")\n",
        "val_labels = np.load(\"val_labels.npy\")\n",
        "test_features = np.load(\"test_features.npy\")\n",
        "test_labels = np.load(\"test_labels.npy\")\n",
        "\n",
        "# Combine features and labels from training, validation, and test sets for clustering analysis.\n",
        "features = np.concatenate((train_features, val_features, test_features), axis=0)\n",
        "labels = np.concatenate((train_labels, val_labels, test_labels), axis=0)\n",
        "\n",
        "#This is calculating the purity of the clustering method\n",
        "def calculate_custom_accuracy(clusters, true_labels):\n",
        "    \"\"\"\n",
        "    Calculate the custom accuracy for clustering by assigning the most frequent true label\n",
        "    to each cluster and then comparing these assigned labels to the true labels.\n",
        "\n",
        "    Parameters:\n",
        "    - clusters (numpy.ndarray): Cluster assignments for each data point.\n",
        "    - true_labels (numpy.ndarray): True labels for each data point.\n",
        "\n",
        "    Returns:\n",
        "    - float: The accuracy of the clustering based on how well the assigned cluster labels\n",
        "             match the true labels.\n",
        "    \"\"\"\n",
        "    label_mapping = {}\n",
        "    for cluster_id in set(clusters):\n",
        "        # Identify all data points assigned to the current cluster.\n",
        "        cluster_indices = np.where(clusters == cluster_id)[0]\n",
        "        # Get the true labels of these data points.\n",
        "        cluster_labels = true_labels[cluster_indices]\n",
        "        # Determine the most common label in the cluster.\n",
        "        most_common_label = Counter(cluster_labels).most_common(1)[0][0]\n",
        "        # Assign this label to the cluster.\n",
        "        label_mapping[cluster_id] = most_common_label\n",
        "    # Create an array of predicted labels based on the cluster assignments.\n",
        "    predicted_labels = np.array([label_mapping[cluster_id] for cluster_id in clusters])\n",
        "    # Calculate and return the accuracy.\n",
        "    return accuracy_score(true_labels, predicted_labels)\n",
        "\n",
        "\n",
        "# Initialize variables to track the best number of clusters (k) and the highest accuracy found.\n",
        "best_k = 2\n",
        "best_accuracy = 0\n",
        "\n",
        "# Iterate over a range of k values to find the best one based on custom accuracy.\n",
        "for k in range(2, 20):\n",
        "    # Perform KMeans clustering with the current value of k.\n",
        "    kmeans = KMeans(n_clusters=k, random_state=42, n_init=\"auto\").fit(features)\n",
        "    # Get the cluster assignments for each data point.\n",
        "    clusters = kmeans.labels_\n",
        "    # Calculate the custom accuracy for these cluster assignments.\n",
        "    accuracy = calculate_custom_accuracy(clusters, labels)\n",
        "    print(f\"k = {k}: Custom Accuracy = {accuracy}\")\n",
        "    # Update the best k and accuracy if the current accuracy is higher.\n",
        "    if accuracy > best_accuracy:\n",
        "        best_accuracy = accuracy\n",
        "        best_k = k\n",
        "\n",
        "# Report the best custom accuracy found and the corresponding value of k.\n",
        "print(f\"Best custom accuracy: {best_accuracy} found for k = {best_k}\")\n",
        "\n",
        "# Perform clustering again with k set to 20 for comparison.\n",
        "kmeans_20 = KMeans(n_clusters=31, random_state=42, n_init=\"auto\").fit(features)\n",
        "clusters_20 = kmeans_20.labels_\n",
        "# Calculate and print the custom accuracy for k=20.\n",
        "accuracy_20 = calculate_custom_accuracy(clusters_20, labels)\n",
        "print(f\"Custom Accuracy with k = 20: {accuracy_20}\")\n",
        "\n",
        "\n",
        "# Assuming 'features' contains your data\n",
        "features = np.concatenate((train_features, val_features, test_features), axis=0)\n",
        "\n",
        "# Define the range of K to try\n",
        "k_values = range(2, 31)  # Example: trying values of K from 2 to 30\n",
        "\n",
        "best_k = None\n",
        "best_silhouette = -1\n",
        "print(\n",
        "    \"============================================================================================\"\n",
        ")\n",
        "# Experiment with different K values\n",
        "print(\"Experimenting with different K values using silhouette_score to find accuracy:\")\n",
        "for k in k_values:\n",
        "    kmeans = KMeans(n_clusters=k, random_state=42, n_init=\"auto\").fit(features)\n",
        "    cluster_labels = kmeans.labels_\n",
        "    silhouette_avg = silhouette_score(features, cluster_labels)\n",
        "\n",
        "    print(f\"For K={k}, the average silhouette_score is: {silhouette_avg}\")\n",
        "\n",
        "    # Update the best K if the current silhouette score is better\n",
        "    if silhouette_avg > best_silhouette:\n",
        "        best_k = k\n",
        "        best_silhouette = silhouette_avg\n",
        "\n",
        "# After finding the best_k based on silhouette scores\n",
        "print(f\"The best K is {best_k} with an average silhouette score of {best_silhouette}.\")\n",
        "\n",
        "# Perform KMeans clustering again using the best_k found from silhouette scores\n",
        "kmeans_best_silhouette = KMeans(n_clusters=best_k, random_state=42, n_init=\"auto\").fit(\n",
        "    features\n",
        ")\n",
        "clusters_best_silhouette = kmeans_best_silhouette.labels_\n",
        "\n",
        "# Calculate and print the custom accuracy for the clustering with best silhouette score\n",
        "accuracy_best_silhouette = calculate_custom_accuracy(clusters_best_silhouette, labels)\n",
        "print(\n",
        "    f\"Custom Accuracy with best silhouette score (k = {best_k}): {accuracy_best_silhouette}\"\n",
        ")"
      ]
    },
    {
      "cell_type": "markdown",
      "metadata": {},
      "source": [
        "We can see that when using automatically selected K we have a purity score much lower than when K is twenty. This is very much expected as when evaluating accuracy based on assigning a class to each cluster with a number of clusters lower than the number of classes we see multiple classes not assigned to a cluster at all and as such every datapoint from that class is read as a miss in another classes' cluster. This gives strong motivation for selecting a k value intentionally as opposed to always using automatic selection as silhouette score does not always tell you everything you need about the dataset, especially if you are using clustering on a labelled dataset."
      ]
    },
    {
      "cell_type": "markdown",
      "metadata": {
        "id": "43sPfI7Jh-9p"
      },
      "source": [
        " Task 6: Additional Clustering Algorithm (10%)\n",
        " Choose another clustering algorithm and apply it on the features.\n",
        " Test accuracy with available labels.\n",
        "\n",
        " Insert your code here for Task 6\n",
        "\n",
        "\n"
      ]
    },
    {
      "cell_type": "code",
      "execution_count": 31,
      "metadata": {
        "id": "Nn9f41LWiCDr"
      },
      "outputs": [
        {
          "name": "stdout",
          "output_type": "stream",
          "text": [
            "eps = 7, min_samples = 5: Custom Accuracy = 0\n",
            "eps = 7, min_samples = 10: Custom Accuracy = 0\n",
            "eps = 7, min_samples = 15: Custom Accuracy = 0\n",
            "eps = 7, min_samples = 20: Custom Accuracy = 0\n",
            "eps = 7, min_samples = 100: Custom Accuracy = 0\n",
            "eps = 10, min_samples = 5: Custom Accuracy = 0.6174242424242424\n",
            "eps = 10, min_samples = 10: Custom Accuracy = 0.7251184834123223\n",
            "eps = 10, min_samples = 15: Custom Accuracy = 0.7151162790697675\n",
            "eps = 10, min_samples = 20: Custom Accuracy = 1.0\n",
            "eps = 10, min_samples = 100: Custom Accuracy = 0\n",
            "eps = 15, min_samples = 5: Custom Accuracy = 0.2653673163418291\n",
            "eps = 15, min_samples = 10: Custom Accuracy = 0.24651162790697675\n",
            "eps = 15, min_samples = 15: Custom Accuracy = 0.23003194888178913\n",
            "eps = 15, min_samples = 20: Custom Accuracy = 0.22990353697749197\n",
            "eps = 15, min_samples = 100: Custom Accuracy = 0.10955056179775281\n",
            "eps = 20, min_samples = 5: Custom Accuracy = 0.05019305019305019\n",
            "eps = 20, min_samples = 10: Custom Accuracy = 0.05032258064516129\n",
            "eps = 20, min_samples = 15: Custom Accuracy = 0.050452781371280724\n",
            "eps = 20, min_samples = 20: Custom Accuracy = 0.05078125\n",
            "eps = 20, min_samples = 100: Custom Accuracy = 0.06190476190476191\n",
            "Best custom accuracy: 1.0 found for eps = 10 and min_samples = 20\n"
          ]
        }
      ],
      "source": [
        "from sklearn.cluster import DBSCAN\n",
        "from sklearn.metrics import silhouette_score, accuracy_score\n",
        "import numpy as np\n",
        "from collections import Counter\n",
        "\n",
        "# Combine features and labels from training, validation, and test sets for clustering analysis.\n",
        "features = np.concatenate((train_features, val_features, test_features), axis=0)\n",
        "labels = np.concatenate((train_labels, val_labels, test_labels), axis=0)\n",
        "\n",
        "# Explore a range of values for eps and min_samples to find the best DBSCAN configuration.\n",
        "eps_values = [\n",
        "    7,\n",
        "    10,\n",
        "    15,\n",
        "    20\n",
        "]\n",
        "min_samples_values = [5, 10, 15, 20, 100]  # Example min_samples values.\n",
        "\n",
        "best_eps = None\n",
        "best_min_samples = None\n",
        "best_accuracy = 0\n",
        "\n",
        "\n",
        "def calculate_custom_accuracy(clusters, true_labels):\n",
        "    # Filter out noise (-1 labels) from the clusters and corresponding true labels\n",
        "    valid_indices = clusters != -1\n",
        "    if not np.any(\n",
        "        valid_indices\n",
        "    ):  # If all points are noise, return 0 accuracy or an appropriate value\n",
        "        return 0\n",
        "    filtered_clusters = clusters[valid_indices]\n",
        "    filtered_labels = true_labels[valid_indices]\n",
        "\n",
        "    label_mapping = {}\n",
        "    for cluster_id in set(filtered_clusters):\n",
        "        cluster_indices = np.where(filtered_clusters == cluster_id)[0]\n",
        "        cluster_labels = filtered_labels[cluster_indices]\n",
        "        if (\n",
        "            cluster_labels.size == 0\n",
        "        ):  # Skip if the cluster is empty (should not happen after filtering noise)\n",
        "            continue\n",
        "        most_common_label = Counter(cluster_labels).most_common(1)[0][0]\n",
        "        label_mapping[cluster_id] = most_common_label\n",
        "\n",
        "    predicted_labels = np.array(\n",
        "        [label_mapping.get(cluster_id, -1) for cluster_id in filtered_clusters]\n",
        "    )\n",
        "    return accuracy_score(filtered_labels, predicted_labels)\n",
        "\n",
        "\n",
        "for eps in eps_values:\n",
        "    for min_samples in min_samples_values:\n",
        "        # Perform DBSCAN clustering with the current value of eps and min_samples.\n",
        "        dbscan = DBSCAN(eps=eps, min_samples=min_samples).fit(features)\n",
        "        # DBSCAN labels_ attribute to get the cluster assignments.\n",
        "        clusters = dbscan.labels_\n",
        "\n",
        "        # Ignore noise points (cluster label = -1) in accuracy calculation if necessary\n",
        "        if np.any(clusters == -1):\n",
        "            # Optional: Filter out noise points for accuracy calculation\n",
        "            valid_indices = clusters != -1\n",
        "            filtered_clusters = clusters[valid_indices]\n",
        "            filtered_labels = labels[valid_indices]\n",
        "            accuracy = calculate_custom_accuracy(filtered_clusters, filtered_labels)\n",
        "        else:\n",
        "            accuracy = calculate_custom_accuracy(clusters, labels)\n",
        "\n",
        "        print(f\"eps = {eps}, min_samples = {min_samples}: Custom Accuracy = {accuracy}\")\n",
        "\n",
        "        # Update the best eps, min_samples, and accuracy if the current accuracy is higher. An accuracy of zero means that all points are classified as noise\n",
        "        if accuracy > best_accuracy:\n",
        "            best_accuracy = accuracy\n",
        "            best_eps = eps\n",
        "            best_min_samples = min_samples\n",
        "\n",
        "# Report the best custom accuracy found and the corresponding values of eps and min_samples.\n",
        "print(\n",
        "    f\"Best custom accuracy: {best_accuracy} found for eps = {best_eps} and min_samples = {best_min_samples}\"\n",
        ")"
      ]
    },
    {
      "cell_type": "markdown",
      "metadata": {
        "id": "3fPfoBsaiCXu"
      },
      "source": [
        " Task 7: PCA for Classification Improvement (20%)\n",
        " Apply PCA on the features and then feed them to the best classification method in the above tasks.\n",
        " Assess if PCA improves outcomes and discuss the results.\n",
        "\n",
        " Insert your code here for Task 7\n",
        "\n",
        "\n"
      ]
    },
    {
      "cell_type": "code",
      "execution_count": 28,
      "metadata": {
        "id": "RoOFXhdmiHeD"
      },
      "outputs": [
        {
          "name": "stdout",
          "output_type": "stream",
          "text": [
            "The accuracy using PCA changes by: -0.7826559356136822\n",
            "The total accuracy of the PCA method is: 0.18203219315895372\n"
          ]
        }
      ],
      "source": [
        "from sklearn.decomposition import PCA\n",
        "\n",
        "# project from X to K dimensions using PCA; we choose two dimensions initially as a proof of concept to identify the effectivness of PCA\n",
        "k = 2\n",
        "\n",
        "# using sklearn's implementation for dimensionality reduction\n",
        "pca = PCA(n_components=k)\n",
        "reduced__data = pca.fit_transform(not_test_features)\n",
        "\n",
        "#We then evaluate the best model from the above steps and measure preformance on the reduced data comparing it to the best SVM score found previously\n",
        "best_svm_model = svm.SVC(kernel=best_kernel, C=best_c, gamma=best_gamma)\n",
        "pca_score = np.mean(cross_val_score(best_svm_model, reduced__data, not_test_labels, cv=10))\n",
        "\n",
        "#Finally we report the results\n",
        "print('The accuracy using PCA changes by:',pca_score-best_score)\n",
        "print('The total accuracy of the PCA method is:',pca_score)"
      ]
    },
    {
      "cell_type": "markdown",
      "metadata": {},
      "source": [
        "From this we can see that the parameters to optimize SVM for a PCA analysis is sufficiently different from the optimal parameters on the untransformed data. In order to find the best response we repeat our procedure for identifying the optimum parameters from step four augmenting our approach with sklearn's grid search implementation in order to minimize runtime should we need to optimize for various K values"
      ]
    },
    {
      "cell_type": "code",
      "execution_count": 15,
      "metadata": {},
      "outputs": [
        {
          "name": "stdout",
          "output_type": "stream",
          "text": [
            "The best parameters are {'C': 1.7782794100389228, 'gamma': 0.03162277660168379} with a score of 0.52\n"
          ]
        },
        {
          "data": {
            "text/plain": [
              "0.4992756539235413"
            ]
          },
          "execution_count": 15,
          "metadata": {},
          "output_type": "execute_result"
        }
      ],
      "source": [
        "from sklearn.model_selection import GridSearchCV, StratifiedShuffleSplit\n",
        "from sklearn.svm import SVC\n",
        "\n",
        "#Recreating the space to be used for gridsearch as in part 4 \n",
        "C_range = np.logspace(-5, 2, 5)\n",
        "gamma_range = np.logspace(-5, 2, 5)\n",
        "param_grid = dict(gamma=gamma_range, C=C_range)\n",
        "cv = StratifiedShuffleSplit(n_splits=5, test_size=0.2, random_state=42)\n",
        "\n",
        "#We use the default SVC implementation of a linear kernal here as since we are already altering the dimensionality of the data we do not need to use a kernal during SVM\n",
        "grid = GridSearchCV(SVC(), param_grid=param_grid, cv=cv)\n",
        "grid.fit(reduced__data, not_test_labels)\n",
        "\n",
        "#Reporting the skill of the model and the hyperparameters needed to produce it\n",
        "print(\n",
        "    \"The best parameters are %s with a score of %0.2f\"\n",
        "    % (grid.best_params_, grid.best_score_))"
      ]
    },
    {
      "cell_type": "markdown",
      "metadata": {},
      "source": [
        "From this we can see almost no improvement suggesting that the number of dimensions chosen from the PCA is not suffient for our methods. In order to solve this we add in a K loop to optimize for each dimension and report back the optimum conditions for both PCA and SVM."
      ]
    },
    {
      "cell_type": "code",
      "execution_count": 26,
      "metadata": {},
      "outputs": [
        {
          "name": "stdout",
          "output_type": "stream",
          "text": [
            "Best Paramters are: {'C': 100.0, 'gamma': 0.0005623413251903491}\n",
            "Best PCA Dimensions are: 122\n",
            "Resulting in a best score of: 0.9746478873239438\n"
          ]
        }
      ],
      "source": [
        "#Initialising variables to track the best model hyperparameters\n",
        "best_pca_score = 0\n",
        "best_k = 0\n",
        "best_params = {}\n",
        "\n",
        "#PCA's worst case is number of output dimensions equal to number of input dimensions so we cap the range of tested k values at the maximum rank of the input data\n",
        "maximum_dimensions = min(not_test_features.shape[0],not_test_features.shape[1])\n",
        "\n",
        "#Adding plus one to the range to account for python's range implementation and iterating by tens to reduce total runtime\n",
        "for k in range(2,maximum_dimensions+1,10):\n",
        "\n",
        "    #Creating a live count of current progress as runtime is slow\n",
        "    print('Current K =',k,'/',maximum_dimensions,end='\\r')\n",
        "\n",
        "    #We then create the new PCA and SVM models with the latter created using grid fit and if the model is the best so far we save the parameters and continue\n",
        "    pca = PCA(n_components=k)\n",
        "    reduced__data = pca.fit_transform(not_test_features)\n",
        "    grid.fit(reduced__data, not_test_labels)\n",
        "    if grid.best_score_ > best_pca_score:\n",
        "        best_pca_score = grid.best_score_\n",
        "        best_parameters = grid.best_params_\n",
        "        best_k = k\n",
        "\n",
        "#Reporting the optimum conditions\n",
        "print('Best Paramters are:',best_parameters)\n",
        "print('Best PCA Dimensions are:',best_k)\n",
        "print('Resulting in a best score of:',best_pca_score)"
      ]
    },
    {
      "cell_type": "markdown",
      "metadata": {},
      "source": [
        "Here we see a major improvement in our model preformance suggesting we were on the right track using grid search to identify if PCA held value in our analysis. As we iterated by tens we then repeat the process on a smaller range of plus or minus twenty to identify the optimum conditions more granularly. "
      ]
    },
    {
      "cell_type": "code",
      "execution_count": 27,
      "metadata": {},
      "outputs": [
        {
          "name": "stdout",
          "output_type": "stream",
          "text": [
            "Best Paramters are: {'C': 100.0, 'gamma': 0.0005623413251903491}\n",
            "Best PCA Dimensions are: 122\n",
            "Resulting in a best score of: 0.9746478873239438\n"
          ]
        }
      ],
      "source": [
        "for k in range(best_k-20,best_k+21):\n",
        "\n",
        "    #Printing progress counter\n",
        "    print('Current K =',k,'/',best_k+21,end='\\r')\n",
        "\n",
        "    #Creating PCA and SVM models as above\n",
        "    pca = PCA(n_components=k)\n",
        "    reduced__data = pca.fit_transform(not_test_features)\n",
        "    grid.fit(reduced__data, not_test_labels)\n",
        "\n",
        "    #Saving best parameters\n",
        "    if grid.best_score_ > best_pca_score:\n",
        "        best_pca_score = grid.best_score_\n",
        "        best_parameters = grid.best_params_\n",
        "        best_k = k\n",
        "\n",
        "#Reporting final parameters\n",
        "print('Best Paramters are:',best_parameters)\n",
        "print('Best PCA Dimensions are:',best_k)\n",
        "print('Resulting in a best score of:',best_pca_score)"
      ]
    },
    {
      "cell_type": "markdown",
      "metadata": {},
      "source": [
        "After finishing our analysis of the optimum hyperparameters we see an improvement when using PCA to reduce the dimensionality of the data as opposed to only using kernel SVM. This makes sense as by removing dimensions that hold little to no variance in the data we are able to simplify the consitions of our SVM before needing to preform a fit as opposed to having to fit a specific kernel implementation to the dataset. If PCA was not helpful in optimizing our model we would expect the resulting PCA optimization to choose the maximum number of dimensions as each would have important information when seperating the data classes. Overall the improvement was small in terms of overall skill, however as the total added runtime of tranforming the data first is similar to the increaced runtime of using a polynomial kernel this method is chosen as superior even if finding the optimum point was slower."
      ]
    },
    {
      "cell_type": "markdown",
      "metadata": {
        "id": "UQqNra7eiHx-"
      },
      "source": [
        " Task 8: Visualization and Analysis (10%)\n",
        " Plot the features in a lower dimension using dimentinality reduction techniques.\n",
        " Analyze the visual representation, identifying patterns or insights.\n",
        "\n",
        "Insert your code here for Task 8"
      ]
    },
    {
      "cell_type": "code",
      "execution_count": 8,
      "metadata": {
        "id": "1npTL_NkjNdL"
      },
      "outputs": [],
      "source": [
        "#We select TSNE here as it provides optimal seperation in two dimensions and as we are likely to have the best visualisation in two dimensions it is a good choice\n",
        "#UMAP was also considered here due to its skill in visualasation of data however due to UMAP's issues with seperating comtained clusters it was not selected\n",
        "from sklearn.manifold import TSNE\n",
        "\n",
        "#Once again we produce a total dataset without test data as for the purposes of visualization the validation data does not need to be seperated\n",
        "not_test_features = np.concatenate((train_features,val_features))\n",
        "not_test_labels = np.concatenate((train_labels,val_labels))\n",
        "\n",
        "#We produce two seperate visualizations up to the number of visualisable dimensions in 2D\n",
        "#The hyperparameters are allowed to optimize independently to avoid midrepresentation of data\n",
        "Dim_Reduced = TSNE(n_components=2, learning_rate='auto', init='random').fit_transform(not_test_features)\n",
        "Dim_Reduced_3 = TSNE(n_components=3, learning_rate='auto', init='random').fit_transform(not_test_features)"
      ]
    },
    {
      "cell_type": "code",
      "execution_count": 9,
      "metadata": {},
      "outputs": [
        {
          "name": "stderr",
          "output_type": "stream",
          "text": [
            "C:\\Users\\marsh\\AppData\\Local\\Temp\\ipykernel_17412\\1216486546.py:3: MatplotlibDeprecationWarning: The get_cmap function was deprecated in Matplotlib 3.7 and will be removed two minor releases later. Use ``matplotlib.colormaps[name]`` or ``matplotlib.colormaps.get_cmap(obj)`` instead.\n",
            "  cmap=plt.cm.get_cmap('tab20', 20))\n"
          ]
        },
        {
          "data": {
            "text/plain": [
              "<matplotlib.colorbar.Colorbar at 0x16126c5fca0>"
            ]
          },
          "execution_count": 9,
          "metadata": {},
          "output_type": "execute_result"
        },
        {
          "data": {
            "image/png": "[encoded data removed]",
            "text/plain": [
              "<Figure size 640x480 with 2 Axes>"
            ]
          },
          "metadata": {},
          "output_type": "display_data"
        }
      ],
      "source": [
        "#We create a scatter plot of the t-sne dimensions reduced to 2D\n",
        "plt.scatter(Dim_Reduced[:,0], Dim_Reduced[:,1],\n",
        "            c=not_test_labels, edgecolor='none', alpha=0.5,\n",
        "            cmap=plt.cm.get_cmap('tab20', 20))\n",
        "\n",
        "#Using general labels for the axis as the component meaning is not preserved when reducing the dimensions\n",
        "plt.xlabel('component 1')\n",
        "plt.ylabel('component 2')\n",
        "plt.title('Dim reduction using t-sne (sklearn)')\n",
        "plt.colorbar(ticks=range(0,20))"
      ]
    },
    {
      "cell_type": "markdown",
      "metadata": {},
      "source": [
        "From the visual representation we can make judgements about the clustering of the datapoints and not their distance or density as a limitation of t-sne. Here we can see that while some clusters are largely unpolluted in terms of clarity other clusters such as 3 and 0 in the right of the graph have a degree of minor overlap, while other clusters such as 10 fail to have a unfied identity instead being split between various other areas. This shows us what classes of data are likely being confused in our previous classification tasks as while some classes are unpolluted such as 15 and 13 and as such have simple seperation other classes such as 10 are seperated into a number of clusters showing high degrees of similarity to other classes and as such showing a high likelyhood that the data is difficult to seperate for classification."
      ]
    },
    {
      "cell_type": "code",
      "execution_count": 10,
      "metadata": {},
      "outputs": [
        {
          "name": "stderr",
          "output_type": "stream",
          "text": [
            "C:\\Users\\marsh\\AppData\\Local\\Temp\\ipykernel_17412\\2405137282.py:7: MatplotlibDeprecationWarning: The get_cmap function was deprecated in Matplotlib 3.7 and will be removed two minor releases later. Use ``matplotlib.colormaps[name]`` or ``matplotlib.colormaps.get_cmap(obj)`` instead.\n",
            "  cmap=plt.cm.get_cmap('tab20', 20))\n"
          ]
        },
        {
          "data": {
            "text/plain": [
              "<matplotlib.colorbar.Colorbar at 0x16126df8e50>"
            ]
          },
          "execution_count": 10,
          "metadata": {},
          "output_type": "execute_result"
        },
        {
          "data": {
            "image/png": "[encoded data removed]",
            "text/plain": [
              "<Figure size 1000x600 with 2 Axes>"
            ]
          },
          "metadata": {},
          "output_type": "display_data"
        }
      ],
      "source": [
        "#Creating a 3D plot of the data with a projection figure\n",
        "fig = plt.figure(figsize=(10,6))\n",
        "plt.tight_layout()\n",
        "ax = fig.add_subplot(projection='3d')\n",
        "\n",
        "#Using the same methodology for the 2D plot with one added Z value\n",
        "p = ax.scatter(Dim_Reduced_3[:,0], Dim_Reduced_3[:,1],Dim_Reduced_3[:,2],\n",
        "            c=not_test_labels, edgecolor='none', alpha=0.8,\n",
        "            cmap=plt.cm.get_cmap('tab20', 20))\n",
        "\n",
        "#Labelling the plot and components\n",
        "ax.set_xlabel('component 1')\n",
        "ax.set_ylabel('component 2')\n",
        "ax.set_zlabel('component 3')\n",
        "plt.title('Dim reduction using t-sne (sklearn)')\n",
        "fig.colorbar(p,ticks=range(0,20))"
      ]
    },
    {
      "cell_type": "markdown",
      "metadata": {},
      "source": [
        "When analyzing the data in 3D we see very similar results as in two dimensions with identical classes overlapping into the same cluster. As such we do not change our findings from the two dimensional case as the only difference here is distance between clusters that is not readable from a t-sne plot."
      ]
    }
  ],
  "metadata": {
    "colab": {
      "provenance": []
    },
    "kernelspec": {
      "display_name": "syde_522",
      "language": "python",
      "name": "python3"
    },
    "language_info": {
      "codemirror_mode": {
        "name": "ipython",
        "version": 3
      },
      "file_extension": ".py",
      "mimetype": "text/x-python",
      "name": "python",
      "nbconvert_exporter": "python",
      "pygments_lexer": "ipython3",
      "version": "3.9.18"
    }
  },
  "nbformat": 4,
  "nbformat_minor": 0
}
